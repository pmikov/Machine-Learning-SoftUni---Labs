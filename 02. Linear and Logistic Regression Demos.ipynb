{
 "cells": [
  {
   "cell_type": "code",
   "execution_count": 1,
   "metadata": {},
   "outputs": [],
   "source": [
    "%matplotlib inline"
   ]
  },
  {
   "cell_type": "code",
   "execution_count": 2,
   "metadata": {},
   "outputs": [],
   "source": [
    "import numpy as np\n",
    "import pandas as pd\n",
    "import matplotlib.pyplot as plt\n",
    "\n",
    "from sklearn.datasets import load_iris\n",
    "\n",
    "from sklearn.preprocessing import PolynomialFeatures\n",
    "\n",
    "from sklearn.linear_model import LinearRegression, RANSACRegressor, LogisticRegression\n",
    "from sklearn.metrics import mean_squared_error"
   ]
  },
  {
   "cell_type": "markdown",
   "metadata": {},
   "source": [
    "# Linear and Logistic Regression\n",
    "## Live Demos"
   ]
  },
  {
   "cell_type": "markdown",
   "metadata": {},
   "source": [
    "## Linear Regression"
   ]
  },
  {
   "cell_type": "code",
   "execution_count": 3,
   "metadata": {},
   "outputs": [],
   "source": [
    "boston_data = pd.read_fwf(\n",
    "    \"https://archive.ics.uci.edu/ml/machine-learning-databases/housing/housing.data\", header = None)"
   ]
  },
  {
   "cell_type": "code",
   "execution_count": 4,
   "metadata": {},
   "outputs": [
    {
     "data": {
      "text/plain": [
       "(506, 14)"
      ]
     },
     "execution_count": 4,
     "metadata": {},
     "output_type": "execute_result"
    }
   ],
   "source": [
    "boston_data.shape"
   ]
  },
  {
   "cell_type": "code",
   "execution_count": 5,
   "metadata": {},
   "outputs": [],
   "source": [
    "boston_data.columns = [\"crime_rate\", \"zoned_land\", \"industry\", \"bounds_river\", \"nox_conc\", \"rooms\", \"age\", \"distance\",  \"highways\", \"tax\", \"pt_ratio\", \"b_estimator\", \"pop_status\", \"price\"]"
   ]
  },
  {
   "cell_type": "code",
   "execution_count": 6,
   "metadata": {},
   "outputs": [
    {
     "data": {
      "text/html": [
       "<div>\n",
       "<style scoped>\n",
       "    .dataframe tbody tr th:only-of-type {\n",
       "        vertical-align: middle;\n",
       "    }\n",
       "\n",
       "    .dataframe tbody tr th {\n",
       "        vertical-align: top;\n",
       "    }\n",
       "\n",
       "    .dataframe thead th {\n",
       "        text-align: right;\n",
       "    }\n",
       "</style>\n",
       "<table border=\"1\" class=\"dataframe\">\n",
       "  <thead>\n",
       "    <tr style=\"text-align: right;\">\n",
       "      <th></th>\n",
       "      <th>crime_rate</th>\n",
       "      <th>zoned_land</th>\n",
       "      <th>industry</th>\n",
       "      <th>bounds_river</th>\n",
       "      <th>nox_conc</th>\n",
       "      <th>rooms</th>\n",
       "      <th>age</th>\n",
       "      <th>distance</th>\n",
       "      <th>highways</th>\n",
       "      <th>tax</th>\n",
       "      <th>pt_ratio</th>\n",
       "      <th>b_estimator</th>\n",
       "      <th>pop_status</th>\n",
       "      <th>price</th>\n",
       "    </tr>\n",
       "  </thead>\n",
       "  <tbody>\n",
       "    <tr>\n",
       "      <th>0</th>\n",
       "      <td>0.00632</td>\n",
       "      <td>18.0</td>\n",
       "      <td>2.31</td>\n",
       "      <td>0</td>\n",
       "      <td>0.538</td>\n",
       "      <td>6.575</td>\n",
       "      <td>65.2</td>\n",
       "      <td>4.0900</td>\n",
       "      <td>1</td>\n",
       "      <td>296.0</td>\n",
       "      <td>15.3</td>\n",
       "      <td>396.90</td>\n",
       "      <td>4.98</td>\n",
       "      <td>24.0</td>\n",
       "    </tr>\n",
       "    <tr>\n",
       "      <th>1</th>\n",
       "      <td>0.02731</td>\n",
       "      <td>0.0</td>\n",
       "      <td>7.07</td>\n",
       "      <td>0</td>\n",
       "      <td>0.469</td>\n",
       "      <td>6.421</td>\n",
       "      <td>78.9</td>\n",
       "      <td>4.9671</td>\n",
       "      <td>2</td>\n",
       "      <td>242.0</td>\n",
       "      <td>17.8</td>\n",
       "      <td>396.90</td>\n",
       "      <td>9.14</td>\n",
       "      <td>21.6</td>\n",
       "    </tr>\n",
       "    <tr>\n",
       "      <th>2</th>\n",
       "      <td>0.02729</td>\n",
       "      <td>0.0</td>\n",
       "      <td>7.07</td>\n",
       "      <td>0</td>\n",
       "      <td>0.469</td>\n",
       "      <td>7.185</td>\n",
       "      <td>61.1</td>\n",
       "      <td>4.9671</td>\n",
       "      <td>2</td>\n",
       "      <td>242.0</td>\n",
       "      <td>17.8</td>\n",
       "      <td>392.83</td>\n",
       "      <td>4.03</td>\n",
       "      <td>34.7</td>\n",
       "    </tr>\n",
       "    <tr>\n",
       "      <th>3</th>\n",
       "      <td>0.03237</td>\n",
       "      <td>0.0</td>\n",
       "      <td>2.18</td>\n",
       "      <td>0</td>\n",
       "      <td>0.458</td>\n",
       "      <td>6.998</td>\n",
       "      <td>45.8</td>\n",
       "      <td>6.0622</td>\n",
       "      <td>3</td>\n",
       "      <td>222.0</td>\n",
       "      <td>18.7</td>\n",
       "      <td>394.63</td>\n",
       "      <td>2.94</td>\n",
       "      <td>33.4</td>\n",
       "    </tr>\n",
       "    <tr>\n",
       "      <th>4</th>\n",
       "      <td>0.06905</td>\n",
       "      <td>0.0</td>\n",
       "      <td>2.18</td>\n",
       "      <td>0</td>\n",
       "      <td>0.458</td>\n",
       "      <td>7.147</td>\n",
       "      <td>54.2</td>\n",
       "      <td>6.0622</td>\n",
       "      <td>3</td>\n",
       "      <td>222.0</td>\n",
       "      <td>18.7</td>\n",
       "      <td>396.90</td>\n",
       "      <td>5.33</td>\n",
       "      <td>36.2</td>\n",
       "    </tr>\n",
       "  </tbody>\n",
       "</table>\n",
       "</div>"
      ],
      "text/plain": [
       "   crime_rate  zoned_land  industry  bounds_river  nox_conc  rooms   age  \\\n",
       "0     0.00632        18.0      2.31             0     0.538  6.575  65.2   \n",
       "1     0.02731         0.0      7.07             0     0.469  6.421  78.9   \n",
       "2     0.02729         0.0      7.07             0     0.469  7.185  61.1   \n",
       "3     0.03237         0.0      2.18             0     0.458  6.998  45.8   \n",
       "4     0.06905         0.0      2.18             0     0.458  7.147  54.2   \n",
       "\n",
       "   distance  highways    tax  pt_ratio  b_estimator  pop_status  price  \n",
       "0    4.0900         1  296.0      15.3       396.90        4.98   24.0  \n",
       "1    4.9671         2  242.0      17.8       396.90        9.14   21.6  \n",
       "2    4.9671         2  242.0      17.8       392.83        4.03   34.7  \n",
       "3    6.0622         3  222.0      18.7       394.63        2.94   33.4  \n",
       "4    6.0622         3  222.0      18.7       396.90        5.33   36.2  "
      ]
     },
     "execution_count": 6,
     "metadata": {},
     "output_type": "execute_result"
    }
   ],
   "source": [
    "boston_data.head()"
   ]
  },
  {
   "cell_type": "code",
   "execution_count": 7,
   "metadata": {},
   "outputs": [
    {
     "data": {
      "text/html": [
       "<div>\n",
       "<style scoped>\n",
       "    .dataframe tbody tr th:only-of-type {\n",
       "        vertical-align: middle;\n",
       "    }\n",
       "\n",
       "    .dataframe tbody tr th {\n",
       "        vertical-align: top;\n",
       "    }\n",
       "\n",
       "    .dataframe thead th {\n",
       "        text-align: right;\n",
       "    }\n",
       "</style>\n",
       "<table border=\"1\" class=\"dataframe\">\n",
       "  <thead>\n",
       "    <tr style=\"text-align: right;\">\n",
       "      <th></th>\n",
       "      <th>count</th>\n",
       "      <th>mean</th>\n",
       "      <th>std</th>\n",
       "      <th>min</th>\n",
       "      <th>25%</th>\n",
       "      <th>50%</th>\n",
       "      <th>75%</th>\n",
       "      <th>max</th>\n",
       "    </tr>\n",
       "  </thead>\n",
       "  <tbody>\n",
       "    <tr>\n",
       "      <th>crime_rate</th>\n",
       "      <td>506.0</td>\n",
       "      <td>1.716290</td>\n",
       "      <td>2.653510</td>\n",
       "      <td>0.00632</td>\n",
       "      <td>0.0819</td>\n",
       "      <td>0.250895</td>\n",
       "      <td>2.326718</td>\n",
       "      <td>9.96654</td>\n",
       "    </tr>\n",
       "    <tr>\n",
       "      <th>zoned_land</th>\n",
       "      <td>506.0</td>\n",
       "      <td>11.363636</td>\n",
       "      <td>23.322453</td>\n",
       "      <td>0.00000</td>\n",
       "      <td>0.0000</td>\n",
       "      <td>0.000000</td>\n",
       "      <td>12.500000</td>\n",
       "      <td>100.00000</td>\n",
       "    </tr>\n",
       "    <tr>\n",
       "      <th>industry</th>\n",
       "      <td>506.0</td>\n",
       "      <td>11.136779</td>\n",
       "      <td>6.860353</td>\n",
       "      <td>0.46000</td>\n",
       "      <td>5.1900</td>\n",
       "      <td>9.690000</td>\n",
       "      <td>18.100000</td>\n",
       "      <td>27.74000</td>\n",
       "    </tr>\n",
       "    <tr>\n",
       "      <th>bounds_river</th>\n",
       "      <td>506.0</td>\n",
       "      <td>0.069170</td>\n",
       "      <td>0.253994</td>\n",
       "      <td>0.00000</td>\n",
       "      <td>0.0000</td>\n",
       "      <td>0.000000</td>\n",
       "      <td>0.000000</td>\n",
       "      <td>1.00000</td>\n",
       "    </tr>\n",
       "    <tr>\n",
       "      <th>nox_conc</th>\n",
       "      <td>506.0</td>\n",
       "      <td>0.554695</td>\n",
       "      <td>0.115878</td>\n",
       "      <td>0.38500</td>\n",
       "      <td>0.4490</td>\n",
       "      <td>0.538000</td>\n",
       "      <td>0.624000</td>\n",
       "      <td>0.87100</td>\n",
       "    </tr>\n",
       "    <tr>\n",
       "      <th>rooms</th>\n",
       "      <td>506.0</td>\n",
       "      <td>6.284634</td>\n",
       "      <td>0.702617</td>\n",
       "      <td>3.56100</td>\n",
       "      <td>5.8855</td>\n",
       "      <td>6.208500</td>\n",
       "      <td>6.623500</td>\n",
       "      <td>8.78000</td>\n",
       "    </tr>\n",
       "    <tr>\n",
       "      <th>age</th>\n",
       "      <td>506.0</td>\n",
       "      <td>68.574901</td>\n",
       "      <td>28.148861</td>\n",
       "      <td>2.90000</td>\n",
       "      <td>45.0250</td>\n",
       "      <td>77.500000</td>\n",
       "      <td>94.075000</td>\n",
       "      <td>100.00000</td>\n",
       "    </tr>\n",
       "    <tr>\n",
       "      <th>distance</th>\n",
       "      <td>506.0</td>\n",
       "      <td>3.696228</td>\n",
       "      <td>1.999689</td>\n",
       "      <td>0.58570</td>\n",
       "      <td>2.0737</td>\n",
       "      <td>3.107300</td>\n",
       "      <td>5.112625</td>\n",
       "      <td>9.22290</td>\n",
       "    </tr>\n",
       "    <tr>\n",
       "      <th>highways</th>\n",
       "      <td>506.0</td>\n",
       "      <td>4.332016</td>\n",
       "      <td>1.417166</td>\n",
       "      <td>1.00000</td>\n",
       "      <td>4.0000</td>\n",
       "      <td>4.000000</td>\n",
       "      <td>5.000000</td>\n",
       "      <td>8.00000</td>\n",
       "    </tr>\n",
       "    <tr>\n",
       "      <th>tax</th>\n",
       "      <td>506.0</td>\n",
       "      <td>408.237154</td>\n",
       "      <td>168.537116</td>\n",
       "      <td>187.00000</td>\n",
       "      <td>279.0000</td>\n",
       "      <td>330.000000</td>\n",
       "      <td>666.000000</td>\n",
       "      <td>711.00000</td>\n",
       "    </tr>\n",
       "    <tr>\n",
       "      <th>pt_ratio</th>\n",
       "      <td>506.0</td>\n",
       "      <td>18.455534</td>\n",
       "      <td>2.164946</td>\n",
       "      <td>12.60000</td>\n",
       "      <td>17.4000</td>\n",
       "      <td>19.050000</td>\n",
       "      <td>20.200000</td>\n",
       "      <td>22.00000</td>\n",
       "    </tr>\n",
       "    <tr>\n",
       "      <th>b_estimator</th>\n",
       "      <td>506.0</td>\n",
       "      <td>356.674032</td>\n",
       "      <td>91.294864</td>\n",
       "      <td>0.32000</td>\n",
       "      <td>375.3775</td>\n",
       "      <td>391.440000</td>\n",
       "      <td>396.225000</td>\n",
       "      <td>396.90000</td>\n",
       "    </tr>\n",
       "    <tr>\n",
       "      <th>pop_status</th>\n",
       "      <td>506.0</td>\n",
       "      <td>12.653063</td>\n",
       "      <td>7.141062</td>\n",
       "      <td>1.73000</td>\n",
       "      <td>6.9500</td>\n",
       "      <td>11.360000</td>\n",
       "      <td>16.955000</td>\n",
       "      <td>37.97000</td>\n",
       "    </tr>\n",
       "    <tr>\n",
       "      <th>price</th>\n",
       "      <td>506.0</td>\n",
       "      <td>22.532806</td>\n",
       "      <td>9.197104</td>\n",
       "      <td>5.00000</td>\n",
       "      <td>17.0250</td>\n",
       "      <td>21.200000</td>\n",
       "      <td>25.000000</td>\n",
       "      <td>50.00000</td>\n",
       "    </tr>\n",
       "  </tbody>\n",
       "</table>\n",
       "</div>"
      ],
      "text/plain": [
       "              count        mean         std        min       25%         50%  \\\n",
       "crime_rate    506.0    1.716290    2.653510    0.00632    0.0819    0.250895   \n",
       "zoned_land    506.0   11.363636   23.322453    0.00000    0.0000    0.000000   \n",
       "industry      506.0   11.136779    6.860353    0.46000    5.1900    9.690000   \n",
       "bounds_river  506.0    0.069170    0.253994    0.00000    0.0000    0.000000   \n",
       "nox_conc      506.0    0.554695    0.115878    0.38500    0.4490    0.538000   \n",
       "rooms         506.0    6.284634    0.702617    3.56100    5.8855    6.208500   \n",
       "age           506.0   68.574901   28.148861    2.90000   45.0250   77.500000   \n",
       "distance      506.0    3.696228    1.999689    0.58570    2.0737    3.107300   \n",
       "highways      506.0    4.332016    1.417166    1.00000    4.0000    4.000000   \n",
       "tax           506.0  408.237154  168.537116  187.00000  279.0000  330.000000   \n",
       "pt_ratio      506.0   18.455534    2.164946   12.60000   17.4000   19.050000   \n",
       "b_estimator   506.0  356.674032   91.294864    0.32000  375.3775  391.440000   \n",
       "pop_status    506.0   12.653063    7.141062    1.73000    6.9500   11.360000   \n",
       "price         506.0   22.532806    9.197104    5.00000   17.0250   21.200000   \n",
       "\n",
       "                     75%        max  \n",
       "crime_rate      2.326718    9.96654  \n",
       "zoned_land     12.500000  100.00000  \n",
       "industry       18.100000   27.74000  \n",
       "bounds_river    0.000000    1.00000  \n",
       "nox_conc        0.624000    0.87100  \n",
       "rooms           6.623500    8.78000  \n",
       "age            94.075000  100.00000  \n",
       "distance        5.112625    9.22290  \n",
       "highways        5.000000    8.00000  \n",
       "tax           666.000000  711.00000  \n",
       "pt_ratio       20.200000   22.00000  \n",
       "b_estimator   396.225000  396.90000  \n",
       "pop_status     16.955000   37.97000  \n",
       "price          25.000000   50.00000  "
      ]
     },
     "execution_count": 7,
     "metadata": {},
     "output_type": "execute_result"
    }
   ],
   "source": [
    "boston_data.describe().T"
   ]
  },
  {
   "cell_type": "code",
   "execution_count": 8,
   "metadata": {},
   "outputs": [],
   "source": [
    "attributes = boston_data.drop(\"price\", axis = 1)\n",
    "target = boston_data.price"
   ]
  },
  {
   "cell_type": "code",
   "execution_count": 9,
   "metadata": {},
   "outputs": [
    {
     "data": {
      "text/html": [
       "<div>\n",
       "<style scoped>\n",
       "    .dataframe tbody tr th:only-of-type {\n",
       "        vertical-align: middle;\n",
       "    }\n",
       "\n",
       "    .dataframe tbody tr th {\n",
       "        vertical-align: top;\n",
       "    }\n",
       "\n",
       "    .dataframe thead th {\n",
       "        text-align: right;\n",
       "    }\n",
       "</style>\n",
       "<table border=\"1\" class=\"dataframe\">\n",
       "  <thead>\n",
       "    <tr style=\"text-align: right;\">\n",
       "      <th></th>\n",
       "      <th>crime_rate</th>\n",
       "      <th>zoned_land</th>\n",
       "      <th>industry</th>\n",
       "      <th>bounds_river</th>\n",
       "      <th>nox_conc</th>\n",
       "      <th>rooms</th>\n",
       "      <th>age</th>\n",
       "      <th>distance</th>\n",
       "      <th>highways</th>\n",
       "      <th>tax</th>\n",
       "      <th>pt_ratio</th>\n",
       "      <th>b_estimator</th>\n",
       "      <th>pop_status</th>\n",
       "      <th>price</th>\n",
       "    </tr>\n",
       "  </thead>\n",
       "  <tbody>\n",
       "    <tr>\n",
       "      <th>crime_rate</th>\n",
       "      <td>1.000000</td>\n",
       "      <td>-0.300774</td>\n",
       "      <td>0.590822</td>\n",
       "      <td>0.013922</td>\n",
       "      <td>0.634679</td>\n",
       "      <td>-0.190197</td>\n",
       "      <td>0.482013</td>\n",
       "      <td>-0.495148</td>\n",
       "      <td>-0.088451</td>\n",
       "      <td>0.793392</td>\n",
       "      <td>0.362615</td>\n",
       "      <td>-0.377013</td>\n",
       "      <td>0.481907</td>\n",
       "      <td>-0.362077</td>\n",
       "    </tr>\n",
       "    <tr>\n",
       "      <th>zoned_land</th>\n",
       "      <td>-0.300774</td>\n",
       "      <td>1.000000</td>\n",
       "      <td>-0.533828</td>\n",
       "      <td>-0.042697</td>\n",
       "      <td>-0.516604</td>\n",
       "      <td>0.311991</td>\n",
       "      <td>-0.569537</td>\n",
       "      <td>0.566660</td>\n",
       "      <td>-0.119290</td>\n",
       "      <td>-0.314563</td>\n",
       "      <td>-0.391679</td>\n",
       "      <td>0.175520</td>\n",
       "      <td>-0.412995</td>\n",
       "      <td>0.360445</td>\n",
       "    </tr>\n",
       "    <tr>\n",
       "      <th>industry</th>\n",
       "      <td>0.590822</td>\n",
       "      <td>-0.533828</td>\n",
       "      <td>1.000000</td>\n",
       "      <td>0.062938</td>\n",
       "      <td>0.763651</td>\n",
       "      <td>-0.391676</td>\n",
       "      <td>0.644779</td>\n",
       "      <td>-0.678498</td>\n",
       "      <td>-0.087615</td>\n",
       "      <td>0.720760</td>\n",
       "      <td>0.383248</td>\n",
       "      <td>-0.356977</td>\n",
       "      <td>0.603800</td>\n",
       "      <td>-0.483725</td>\n",
       "    </tr>\n",
       "    <tr>\n",
       "      <th>bounds_river</th>\n",
       "      <td>0.013922</td>\n",
       "      <td>-0.042697</td>\n",
       "      <td>0.062938</td>\n",
       "      <td>1.000000</td>\n",
       "      <td>0.091203</td>\n",
       "      <td>0.091251</td>\n",
       "      <td>0.086518</td>\n",
       "      <td>-0.090950</td>\n",
       "      <td>0.079105</td>\n",
       "      <td>-0.035587</td>\n",
       "      <td>-0.121515</td>\n",
       "      <td>0.048788</td>\n",
       "      <td>-0.053929</td>\n",
       "      <td>0.175260</td>\n",
       "    </tr>\n",
       "    <tr>\n",
       "      <th>nox_conc</th>\n",
       "      <td>0.634679</td>\n",
       "      <td>-0.516604</td>\n",
       "      <td>0.763651</td>\n",
       "      <td>0.091203</td>\n",
       "      <td>1.000000</td>\n",
       "      <td>-0.302188</td>\n",
       "      <td>0.731470</td>\n",
       "      <td>-0.748872</td>\n",
       "      <td>0.009217</td>\n",
       "      <td>0.668023</td>\n",
       "      <td>0.188933</td>\n",
       "      <td>-0.380051</td>\n",
       "      <td>0.590879</td>\n",
       "      <td>-0.427321</td>\n",
       "    </tr>\n",
       "    <tr>\n",
       "      <th>rooms</th>\n",
       "      <td>-0.190197</td>\n",
       "      <td>0.311991</td>\n",
       "      <td>-0.391676</td>\n",
       "      <td>0.091251</td>\n",
       "      <td>-0.302188</td>\n",
       "      <td>1.000000</td>\n",
       "      <td>-0.240265</td>\n",
       "      <td>0.225052</td>\n",
       "      <td>0.088753</td>\n",
       "      <td>-0.292048</td>\n",
       "      <td>-0.355501</td>\n",
       "      <td>0.128069</td>\n",
       "      <td>-0.613808</td>\n",
       "      <td>0.695360</td>\n",
       "    </tr>\n",
       "    <tr>\n",
       "      <th>age</th>\n",
       "      <td>0.482013</td>\n",
       "      <td>-0.569537</td>\n",
       "      <td>0.644779</td>\n",
       "      <td>0.086518</td>\n",
       "      <td>0.731470</td>\n",
       "      <td>-0.240265</td>\n",
       "      <td>1.000000</td>\n",
       "      <td>-0.713313</td>\n",
       "      <td>0.019658</td>\n",
       "      <td>0.506456</td>\n",
       "      <td>0.261515</td>\n",
       "      <td>-0.273534</td>\n",
       "      <td>0.602339</td>\n",
       "      <td>-0.376955</td>\n",
       "    </tr>\n",
       "    <tr>\n",
       "      <th>distance</th>\n",
       "      <td>-0.495148</td>\n",
       "      <td>0.566660</td>\n",
       "      <td>-0.678498</td>\n",
       "      <td>-0.090950</td>\n",
       "      <td>-0.748872</td>\n",
       "      <td>0.225052</td>\n",
       "      <td>-0.713313</td>\n",
       "      <td>1.000000</td>\n",
       "      <td>0.003030</td>\n",
       "      <td>-0.541369</td>\n",
       "      <td>-0.269140</td>\n",
       "      <td>0.293621</td>\n",
       "      <td>-0.479158</td>\n",
       "      <td>0.264325</td>\n",
       "    </tr>\n",
       "    <tr>\n",
       "      <th>highways</th>\n",
       "      <td>-0.088451</td>\n",
       "      <td>-0.119290</td>\n",
       "      <td>-0.087615</td>\n",
       "      <td>0.079105</td>\n",
       "      <td>0.009217</td>\n",
       "      <td>0.088753</td>\n",
       "      <td>0.019658</td>\n",
       "      <td>0.003030</td>\n",
       "      <td>1.000000</td>\n",
       "      <td>-0.049221</td>\n",
       "      <td>-0.116969</td>\n",
       "      <td>0.040705</td>\n",
       "      <td>-0.069828</td>\n",
       "      <td>0.113519</td>\n",
       "    </tr>\n",
       "    <tr>\n",
       "      <th>tax</th>\n",
       "      <td>0.793392</td>\n",
       "      <td>-0.314563</td>\n",
       "      <td>0.720760</td>\n",
       "      <td>-0.035587</td>\n",
       "      <td>0.668023</td>\n",
       "      <td>-0.292048</td>\n",
       "      <td>0.506456</td>\n",
       "      <td>-0.541369</td>\n",
       "      <td>-0.049221</td>\n",
       "      <td>1.000000</td>\n",
       "      <td>0.460853</td>\n",
       "      <td>-0.441808</td>\n",
       "      <td>0.543993</td>\n",
       "      <td>-0.468536</td>\n",
       "    </tr>\n",
       "    <tr>\n",
       "      <th>pt_ratio</th>\n",
       "      <td>0.362615</td>\n",
       "      <td>-0.391679</td>\n",
       "      <td>0.383248</td>\n",
       "      <td>-0.121515</td>\n",
       "      <td>0.188933</td>\n",
       "      <td>-0.355501</td>\n",
       "      <td>0.261515</td>\n",
       "      <td>-0.269140</td>\n",
       "      <td>-0.116969</td>\n",
       "      <td>0.460853</td>\n",
       "      <td>1.000000</td>\n",
       "      <td>-0.177383</td>\n",
       "      <td>0.374044</td>\n",
       "      <td>-0.507787</td>\n",
       "    </tr>\n",
       "    <tr>\n",
       "      <th>b_estimator</th>\n",
       "      <td>-0.377013</td>\n",
       "      <td>0.175520</td>\n",
       "      <td>-0.356977</td>\n",
       "      <td>0.048788</td>\n",
       "      <td>-0.380051</td>\n",
       "      <td>0.128069</td>\n",
       "      <td>-0.273534</td>\n",
       "      <td>0.293621</td>\n",
       "      <td>0.040705</td>\n",
       "      <td>-0.441808</td>\n",
       "      <td>-0.177383</td>\n",
       "      <td>1.000000</td>\n",
       "      <td>-0.366087</td>\n",
       "      <td>0.333461</td>\n",
       "    </tr>\n",
       "    <tr>\n",
       "      <th>pop_status</th>\n",
       "      <td>0.481907</td>\n",
       "      <td>-0.412995</td>\n",
       "      <td>0.603800</td>\n",
       "      <td>-0.053929</td>\n",
       "      <td>0.590879</td>\n",
       "      <td>-0.613808</td>\n",
       "      <td>0.602339</td>\n",
       "      <td>-0.479158</td>\n",
       "      <td>-0.069828</td>\n",
       "      <td>0.543993</td>\n",
       "      <td>0.374044</td>\n",
       "      <td>-0.366087</td>\n",
       "      <td>1.000000</td>\n",
       "      <td>-0.737663</td>\n",
       "    </tr>\n",
       "    <tr>\n",
       "      <th>price</th>\n",
       "      <td>-0.362077</td>\n",
       "      <td>0.360445</td>\n",
       "      <td>-0.483725</td>\n",
       "      <td>0.175260</td>\n",
       "      <td>-0.427321</td>\n",
       "      <td>0.695360</td>\n",
       "      <td>-0.376955</td>\n",
       "      <td>0.264325</td>\n",
       "      <td>0.113519</td>\n",
       "      <td>-0.468536</td>\n",
       "      <td>-0.507787</td>\n",
       "      <td>0.333461</td>\n",
       "      <td>-0.737663</td>\n",
       "      <td>1.000000</td>\n",
       "    </tr>\n",
       "  </tbody>\n",
       "</table>\n",
       "</div>"
      ],
      "text/plain": [
       "              crime_rate  zoned_land  industry  bounds_river  nox_conc  \\\n",
       "crime_rate      1.000000   -0.300774  0.590822      0.013922  0.634679   \n",
       "zoned_land     -0.300774    1.000000 -0.533828     -0.042697 -0.516604   \n",
       "industry        0.590822   -0.533828  1.000000      0.062938  0.763651   \n",
       "bounds_river    0.013922   -0.042697  0.062938      1.000000  0.091203   \n",
       "nox_conc        0.634679   -0.516604  0.763651      0.091203  1.000000   \n",
       "rooms          -0.190197    0.311991 -0.391676      0.091251 -0.302188   \n",
       "age             0.482013   -0.569537  0.644779      0.086518  0.731470   \n",
       "distance       -0.495148    0.566660 -0.678498     -0.090950 -0.748872   \n",
       "highways       -0.088451   -0.119290 -0.087615      0.079105  0.009217   \n",
       "tax             0.793392   -0.314563  0.720760     -0.035587  0.668023   \n",
       "pt_ratio        0.362615   -0.391679  0.383248     -0.121515  0.188933   \n",
       "b_estimator    -0.377013    0.175520 -0.356977      0.048788 -0.380051   \n",
       "pop_status      0.481907   -0.412995  0.603800     -0.053929  0.590879   \n",
       "price          -0.362077    0.360445 -0.483725      0.175260 -0.427321   \n",
       "\n",
       "                 rooms       age  distance  highways       tax  pt_ratio  \\\n",
       "crime_rate   -0.190197  0.482013 -0.495148 -0.088451  0.793392  0.362615   \n",
       "zoned_land    0.311991 -0.569537  0.566660 -0.119290 -0.314563 -0.391679   \n",
       "industry     -0.391676  0.644779 -0.678498 -0.087615  0.720760  0.383248   \n",
       "bounds_river  0.091251  0.086518 -0.090950  0.079105 -0.035587 -0.121515   \n",
       "nox_conc     -0.302188  0.731470 -0.748872  0.009217  0.668023  0.188933   \n",
       "rooms         1.000000 -0.240265  0.225052  0.088753 -0.292048 -0.355501   \n",
       "age          -0.240265  1.000000 -0.713313  0.019658  0.506456  0.261515   \n",
       "distance      0.225052 -0.713313  1.000000  0.003030 -0.541369 -0.269140   \n",
       "highways      0.088753  0.019658  0.003030  1.000000 -0.049221 -0.116969   \n",
       "tax          -0.292048  0.506456 -0.541369 -0.049221  1.000000  0.460853   \n",
       "pt_ratio     -0.355501  0.261515 -0.269140 -0.116969  0.460853  1.000000   \n",
       "b_estimator   0.128069 -0.273534  0.293621  0.040705 -0.441808 -0.177383   \n",
       "pop_status   -0.613808  0.602339 -0.479158 -0.069828  0.543993  0.374044   \n",
       "price         0.695360 -0.376955  0.264325  0.113519 -0.468536 -0.507787   \n",
       "\n",
       "              b_estimator  pop_status     price  \n",
       "crime_rate      -0.377013    0.481907 -0.362077  \n",
       "zoned_land       0.175520   -0.412995  0.360445  \n",
       "industry        -0.356977    0.603800 -0.483725  \n",
       "bounds_river     0.048788   -0.053929  0.175260  \n",
       "nox_conc        -0.380051    0.590879 -0.427321  \n",
       "rooms            0.128069   -0.613808  0.695360  \n",
       "age             -0.273534    0.602339 -0.376955  \n",
       "distance         0.293621   -0.479158  0.264325  \n",
       "highways         0.040705   -0.069828  0.113519  \n",
       "tax             -0.441808    0.543993 -0.468536  \n",
       "pt_ratio        -0.177383    0.374044 -0.507787  \n",
       "b_estimator      1.000000   -0.366087  0.333461  \n",
       "pop_status      -0.366087    1.000000 -0.737663  \n",
       "price            0.333461   -0.737663  1.000000  "
      ]
     },
     "execution_count": 9,
     "metadata": {},
     "output_type": "execute_result"
    }
   ],
   "source": [
    "boston_data.corr()"
   ]
  },
  {
   "cell_type": "code",
   "execution_count": 10,
   "metadata": {},
   "outputs": [],
   "source": [
    "model = LinearRegression()"
   ]
  },
  {
   "cell_type": "code",
   "execution_count": 11,
   "metadata": {},
   "outputs": [
    {
     "data": {
      "text/plain": [
       "LinearRegression(copy_X=True, fit_intercept=True, n_jobs=None, normalize=False)"
      ]
     },
     "execution_count": 11,
     "metadata": {},
     "output_type": "execute_result"
    }
   ],
   "source": [
    "model.fit(attributes, target)"
   ]
  },
  {
   "cell_type": "code",
   "execution_count": 12,
   "metadata": {},
   "outputs": [
    {
     "data": {
      "text/plain": [
       "array([ 2.09281375e-01,  1.49403979e-02,  1.27164577e-02,  3.00565375e+00,\n",
       "       -1.55234852e+01,  4.29955958e+00,  2.84848139e-03, -1.08366345e+00,\n",
       "        1.93258621e-01, -2.42034372e-03, -9.65535221e-01,  9.43510233e-03,\n",
       "       -5.25242783e-01])"
      ]
     },
     "execution_count": 12,
     "metadata": {},
     "output_type": "execute_result"
    }
   ],
   "source": [
    "model.coef_"
   ]
  },
  {
   "cell_type": "code",
   "execution_count": 13,
   "metadata": {},
   "outputs": [
    {
     "data": {
      "text/plain": [
       "28.30511075009888"
      ]
     },
     "execution_count": 13,
     "metadata": {},
     "output_type": "execute_result"
    }
   ],
   "source": [
    "model.intercept_"
   ]
  },
  {
   "cell_type": "code",
   "execution_count": 14,
   "metadata": {},
   "outputs": [
    {
     "data": {
      "text/plain": [
       "0.7198065414937174"
      ]
     },
     "execution_count": 14,
     "metadata": {},
     "output_type": "execute_result"
    }
   ],
   "source": [
    "model.score(attributes, target)"
   ]
  },
  {
   "cell_type": "code",
   "execution_count": 15,
   "metadata": {},
   "outputs": [],
   "source": [
    "model_no_intercept = LinearRegression(fit_intercept = False)"
   ]
  },
  {
   "cell_type": "code",
   "execution_count": 16,
   "metadata": {},
   "outputs": [
    {
     "data": {
      "text/plain": [
       "LinearRegression(copy_X=True, fit_intercept=False, n_jobs=None, normalize=False)"
      ]
     },
     "execution_count": 16,
     "metadata": {},
     "output_type": "execute_result"
    }
   ],
   "source": [
    "model_no_intercept.fit(attributes, target)"
   ]
  },
  {
   "cell_type": "code",
   "execution_count": 17,
   "metadata": {},
   "outputs": [
    {
     "data": {
      "text/plain": [
       "array([ 2.32266653e-02,  2.77104570e-02,  1.27058681e-02,  3.01506936e+00,\n",
       "       -3.68298191e+00,  5.82571154e+00, -2.57508598e-03, -7.26850898e-01,\n",
       "        3.10921428e-01, -3.14922442e-03, -5.07184355e-01,  1.39593084e-02,\n",
       "       -4.43092704e-01])"
      ]
     },
     "execution_count": 17,
     "metadata": {},
     "output_type": "execute_result"
    }
   ],
   "source": [
    "model_no_intercept.coef_"
   ]
  },
  {
   "cell_type": "code",
   "execution_count": 18,
   "metadata": {},
   "outputs": [
    {
     "data": {
      "text/plain": [
       "0.0"
      ]
     },
     "execution_count": 18,
     "metadata": {},
     "output_type": "execute_result"
    }
   ],
   "source": [
    "model_no_intercept.intercept_"
   ]
  },
  {
   "cell_type": "code",
   "execution_count": 19,
   "metadata": {},
   "outputs": [
    {
     "data": {
      "text/plain": [
       "0.7036175611789843"
      ]
     },
     "execution_count": 19,
     "metadata": {},
     "output_type": "execute_result"
    }
   ],
   "source": [
    "model_no_intercept.score(attributes, target)"
   ]
  },
  {
   "cell_type": "code",
   "execution_count": 20,
   "metadata": {},
   "outputs": [],
   "source": [
    "test_data = boston_data.sample(20)"
   ]
  },
  {
   "cell_type": "code",
   "execution_count": 21,
   "metadata": {},
   "outputs": [],
   "source": [
    "test_attributes = test_data.drop(\"price\", axis = 1)"
   ]
  },
  {
   "cell_type": "code",
   "execution_count": 22,
   "metadata": {},
   "outputs": [
    {
     "data": {
      "text/plain": [
       "array([28.54030418, 18.13706705, 18.66705389, 20.76974663, 13.82919695,\n",
       "       32.37653591, 22.17313202, 31.71111339, 18.75511091, 23.47600838,\n",
       "       16.09778633, 23.6319635 , 14.22490657, 29.04535626, 15.6806582 ,\n",
       "       20.88652496, 10.71588058, 23.54226476, 20.13129295, 42.63034174])"
      ]
     },
     "execution_count": 22,
     "metadata": {},
     "output_type": "execute_result"
    }
   ],
   "source": [
    "model.predict(test_attributes)"
   ]
  },
  {
   "cell_type": "code",
   "execution_count": 23,
   "metadata": {},
   "outputs": [],
   "source": [
    "test_data[\"predicted_price\"] = model.predict(test_attributes)"
   ]
  },
  {
   "cell_type": "code",
   "execution_count": 24,
   "metadata": {},
   "outputs": [
    {
     "data": {
      "text/html": [
       "<div>\n",
       "<style scoped>\n",
       "    .dataframe tbody tr th:only-of-type {\n",
       "        vertical-align: middle;\n",
       "    }\n",
       "\n",
       "    .dataframe tbody tr th {\n",
       "        vertical-align: top;\n",
       "    }\n",
       "\n",
       "    .dataframe thead th {\n",
       "        text-align: right;\n",
       "    }\n",
       "</style>\n",
       "<table border=\"1\" class=\"dataframe\">\n",
       "  <thead>\n",
       "    <tr style=\"text-align: right;\">\n",
       "      <th></th>\n",
       "      <th>crime_rate</th>\n",
       "      <th>zoned_land</th>\n",
       "      <th>industry</th>\n",
       "      <th>bounds_river</th>\n",
       "      <th>nox_conc</th>\n",
       "      <th>rooms</th>\n",
       "      <th>age</th>\n",
       "      <th>distance</th>\n",
       "      <th>highways</th>\n",
       "      <th>tax</th>\n",
       "      <th>pt_ratio</th>\n",
       "      <th>b_estimator</th>\n",
       "      <th>pop_status</th>\n",
       "      <th>price</th>\n",
       "      <th>predicted_price</th>\n",
       "    </tr>\n",
       "  </thead>\n",
       "  <tbody>\n",
       "    <tr>\n",
       "      <th>305</th>\n",
       "      <td>0.05479</td>\n",
       "      <td>33.0</td>\n",
       "      <td>2.18</td>\n",
       "      <td>0</td>\n",
       "      <td>0.472</td>\n",
       "      <td>6.616</td>\n",
       "      <td>58.1</td>\n",
       "      <td>3.3700</td>\n",
       "      <td>7</td>\n",
       "      <td>222.0</td>\n",
       "      <td>18.4</td>\n",
       "      <td>393.36</td>\n",
       "      <td>8.93</td>\n",
       "      <td>28.4</td>\n",
       "      <td>28.540304</td>\n",
       "    </tr>\n",
       "    <tr>\n",
       "      <th>407</th>\n",
       "      <td>1.95110</td>\n",
       "      <td>0.0</td>\n",
       "      <td>18.10</td>\n",
       "      <td>0</td>\n",
       "      <td>0.659</td>\n",
       "      <td>5.608</td>\n",
       "      <td>100.0</td>\n",
       "      <td>1.2852</td>\n",
       "      <td>4</td>\n",
       "      <td>666.0</td>\n",
       "      <td>20.2</td>\n",
       "      <td>332.09</td>\n",
       "      <td>12.13</td>\n",
       "      <td>27.9</td>\n",
       "      <td>18.137067</td>\n",
       "    </tr>\n",
       "    <tr>\n",
       "      <th>31</th>\n",
       "      <td>1.35472</td>\n",
       "      <td>0.0</td>\n",
       "      <td>8.14</td>\n",
       "      <td>0</td>\n",
       "      <td>0.538</td>\n",
       "      <td>6.072</td>\n",
       "      <td>100.0</td>\n",
       "      <td>4.1750</td>\n",
       "      <td>4</td>\n",
       "      <td>307.0</td>\n",
       "      <td>21.0</td>\n",
       "      <td>376.73</td>\n",
       "      <td>13.04</td>\n",
       "      <td>14.5</td>\n",
       "      <td>18.667054</td>\n",
       "    </tr>\n",
       "    <tr>\n",
       "      <th>107</th>\n",
       "      <td>0.13117</td>\n",
       "      <td>0.0</td>\n",
       "      <td>8.56</td>\n",
       "      <td>0</td>\n",
       "      <td>0.520</td>\n",
       "      <td>6.127</td>\n",
       "      <td>85.2</td>\n",
       "      <td>2.1224</td>\n",
       "      <td>5</td>\n",
       "      <td>384.0</td>\n",
       "      <td>20.9</td>\n",
       "      <td>387.69</td>\n",
       "      <td>14.09</td>\n",
       "      <td>20.4</td>\n",
       "      <td>20.769747</td>\n",
       "    </tr>\n",
       "    <tr>\n",
       "      <th>405</th>\n",
       "      <td>7.92080</td>\n",
       "      <td>0.0</td>\n",
       "      <td>18.10</td>\n",
       "      <td>0</td>\n",
       "      <td>0.693</td>\n",
       "      <td>5.683</td>\n",
       "      <td>100.0</td>\n",
       "      <td>1.4254</td>\n",
       "      <td>4</td>\n",
       "      <td>666.0</td>\n",
       "      <td>20.2</td>\n",
       "      <td>384.97</td>\n",
       "      <td>22.98</td>\n",
       "      <td>5.0</td>\n",
       "      <td>13.829197</td>\n",
       "    </tr>\n",
       "    <tr>\n",
       "      <th>275</th>\n",
       "      <td>0.09604</td>\n",
       "      <td>40.0</td>\n",
       "      <td>6.41</td>\n",
       "      <td>0</td>\n",
       "      <td>0.447</td>\n",
       "      <td>6.854</td>\n",
       "      <td>42.8</td>\n",
       "      <td>4.2673</td>\n",
       "      <td>4</td>\n",
       "      <td>254.0</td>\n",
       "      <td>17.6</td>\n",
       "      <td>396.90</td>\n",
       "      <td>2.98</td>\n",
       "      <td>32.0</td>\n",
       "      <td>32.376536</td>\n",
       "    </tr>\n",
       "    <tr>\n",
       "      <th>205</th>\n",
       "      <td>0.13642</td>\n",
       "      <td>0.0</td>\n",
       "      <td>10.59</td>\n",
       "      <td>0</td>\n",
       "      <td>0.489</td>\n",
       "      <td>5.891</td>\n",
       "      <td>22.3</td>\n",
       "      <td>3.9454</td>\n",
       "      <td>4</td>\n",
       "      <td>277.0</td>\n",
       "      <td>18.6</td>\n",
       "      <td>396.90</td>\n",
       "      <td>10.87</td>\n",
       "      <td>22.6</td>\n",
       "      <td>22.173132</td>\n",
       "    </tr>\n",
       "    <tr>\n",
       "      <th>369</th>\n",
       "      <td>5.66998</td>\n",
       "      <td>0.0</td>\n",
       "      <td>18.10</td>\n",
       "      <td>1</td>\n",
       "      <td>0.631</td>\n",
       "      <td>6.683</td>\n",
       "      <td>96.8</td>\n",
       "      <td>1.3567</td>\n",
       "      <td>4</td>\n",
       "      <td>666.0</td>\n",
       "      <td>20.2</td>\n",
       "      <td>375.33</td>\n",
       "      <td>3.73</td>\n",
       "      <td>50.0</td>\n",
       "      <td>31.711113</td>\n",
       "    </tr>\n",
       "    <tr>\n",
       "      <th>470</th>\n",
       "      <td>4.34879</td>\n",
       "      <td>0.0</td>\n",
       "      <td>18.10</td>\n",
       "      <td>0</td>\n",
       "      <td>0.580</td>\n",
       "      <td>6.167</td>\n",
       "      <td>84.0</td>\n",
       "      <td>3.0334</td>\n",
       "      <td>4</td>\n",
       "      <td>666.0</td>\n",
       "      <td>20.2</td>\n",
       "      <td>396.90</td>\n",
       "      <td>16.29</td>\n",
       "      <td>19.9</td>\n",
       "      <td>18.755111</td>\n",
       "    </tr>\n",
       "    <tr>\n",
       "      <th>330</th>\n",
       "      <td>0.04544</td>\n",
       "      <td>0.0</td>\n",
       "      <td>3.24</td>\n",
       "      <td>0</td>\n",
       "      <td>0.460</td>\n",
       "      <td>6.144</td>\n",
       "      <td>32.2</td>\n",
       "      <td>5.8736</td>\n",
       "      <td>4</td>\n",
       "      <td>430.0</td>\n",
       "      <td>16.9</td>\n",
       "      <td>368.57</td>\n",
       "      <td>9.09</td>\n",
       "      <td>19.8</td>\n",
       "      <td>23.476008</td>\n",
       "    </tr>\n",
       "    <tr>\n",
       "      <th>24</th>\n",
       "      <td>0.75026</td>\n",
       "      <td>0.0</td>\n",
       "      <td>8.14</td>\n",
       "      <td>0</td>\n",
       "      <td>0.538</td>\n",
       "      <td>5.924</td>\n",
       "      <td>94.1</td>\n",
       "      <td>4.3996</td>\n",
       "      <td>4</td>\n",
       "      <td>307.0</td>\n",
       "      <td>21.0</td>\n",
       "      <td>394.33</td>\n",
       "      <td>16.30</td>\n",
       "      <td>15.6</td>\n",
       "      <td>16.097786</td>\n",
       "    </tr>\n",
       "    <tr>\n",
       "      <th>53</th>\n",
       "      <td>0.04981</td>\n",
       "      <td>21.0</td>\n",
       "      <td>5.64</td>\n",
       "      <td>0</td>\n",
       "      <td>0.439</td>\n",
       "      <td>5.998</td>\n",
       "      <td>21.4</td>\n",
       "      <td>6.8147</td>\n",
       "      <td>4</td>\n",
       "      <td>243.0</td>\n",
       "      <td>16.8</td>\n",
       "      <td>396.90</td>\n",
       "      <td>8.43</td>\n",
       "      <td>23.4</td>\n",
       "      <td>23.631963</td>\n",
       "    </tr>\n",
       "    <tr>\n",
       "      <th>134</th>\n",
       "      <td>0.97617</td>\n",
       "      <td>0.0</td>\n",
       "      <td>21.89</td>\n",
       "      <td>0</td>\n",
       "      <td>0.624</td>\n",
       "      <td>5.757</td>\n",
       "      <td>98.4</td>\n",
       "      <td>2.3460</td>\n",
       "      <td>4</td>\n",
       "      <td>437.0</td>\n",
       "      <td>21.2</td>\n",
       "      <td>262.76</td>\n",
       "      <td>17.31</td>\n",
       "      <td>15.6</td>\n",
       "      <td>14.224907</td>\n",
       "    </tr>\n",
       "    <tr>\n",
       "      <th>3</th>\n",
       "      <td>0.03237</td>\n",
       "      <td>0.0</td>\n",
       "      <td>2.18</td>\n",
       "      <td>0</td>\n",
       "      <td>0.458</td>\n",
       "      <td>6.998</td>\n",
       "      <td>45.8</td>\n",
       "      <td>6.0622</td>\n",
       "      <td>3</td>\n",
       "      <td>222.0</td>\n",
       "      <td>18.7</td>\n",
       "      <td>394.63</td>\n",
       "      <td>2.94</td>\n",
       "      <td>33.4</td>\n",
       "      <td>29.045356</td>\n",
       "    </tr>\n",
       "    <tr>\n",
       "      <th>127</th>\n",
       "      <td>0.25915</td>\n",
       "      <td>0.0</td>\n",
       "      <td>21.89</td>\n",
       "      <td>0</td>\n",
       "      <td>0.624</td>\n",
       "      <td>5.693</td>\n",
       "      <td>96.0</td>\n",
       "      <td>1.7883</td>\n",
       "      <td>4</td>\n",
       "      <td>437.0</td>\n",
       "      <td>21.2</td>\n",
       "      <td>392.11</td>\n",
       "      <td>17.19</td>\n",
       "      <td>16.2</td>\n",
       "      <td>15.680658</td>\n",
       "    </tr>\n",
       "    <tr>\n",
       "      <th>110</th>\n",
       "      <td>0.10793</td>\n",
       "      <td>0.0</td>\n",
       "      <td>8.56</td>\n",
       "      <td>0</td>\n",
       "      <td>0.520</td>\n",
       "      <td>6.195</td>\n",
       "      <td>54.4</td>\n",
       "      <td>2.7778</td>\n",
       "      <td>5</td>\n",
       "      <td>384.0</td>\n",
       "      <td>20.9</td>\n",
       "      <td>393.49</td>\n",
       "      <td>13.00</td>\n",
       "      <td>21.7</td>\n",
       "      <td>20.886525</td>\n",
       "    </tr>\n",
       "    <tr>\n",
       "      <th>399</th>\n",
       "      <td>9.91655</td>\n",
       "      <td>0.0</td>\n",
       "      <td>18.10</td>\n",
       "      <td>0</td>\n",
       "      <td>0.693</td>\n",
       "      <td>5.852</td>\n",
       "      <td>77.8</td>\n",
       "      <td>1.5004</td>\n",
       "      <td>4</td>\n",
       "      <td>666.0</td>\n",
       "      <td>20.2</td>\n",
       "      <td>338.16</td>\n",
       "      <td>29.97</td>\n",
       "      <td>6.3</td>\n",
       "      <td>10.715881</td>\n",
       "    </tr>\n",
       "    <tr>\n",
       "      <th>185</th>\n",
       "      <td>0.06047</td>\n",
       "      <td>0.0</td>\n",
       "      <td>2.46</td>\n",
       "      <td>0</td>\n",
       "      <td>0.488</td>\n",
       "      <td>6.153</td>\n",
       "      <td>68.8</td>\n",
       "      <td>3.2797</td>\n",
       "      <td>3</td>\n",
       "      <td>193.0</td>\n",
       "      <td>17.8</td>\n",
       "      <td>387.11</td>\n",
       "      <td>13.15</td>\n",
       "      <td>29.6</td>\n",
       "      <td>23.542265</td>\n",
       "    </tr>\n",
       "    <tr>\n",
       "      <th>356</th>\n",
       "      <td>8.98296</td>\n",
       "      <td>0.0</td>\n",
       "      <td>18.10</td>\n",
       "      <td>1</td>\n",
       "      <td>0.770</td>\n",
       "      <td>6.212</td>\n",
       "      <td>97.4</td>\n",
       "      <td>2.1222</td>\n",
       "      <td>4</td>\n",
       "      <td>666.0</td>\n",
       "      <td>20.2</td>\n",
       "      <td>377.73</td>\n",
       "      <td>17.60</td>\n",
       "      <td>17.8</td>\n",
       "      <td>20.131293</td>\n",
       "    </tr>\n",
       "    <tr>\n",
       "      <th>162</th>\n",
       "      <td>1.83377</td>\n",
       "      <td>0.0</td>\n",
       "      <td>19.58</td>\n",
       "      <td>1</td>\n",
       "      <td>0.605</td>\n",
       "      <td>7.802</td>\n",
       "      <td>98.2</td>\n",
       "      <td>2.0407</td>\n",
       "      <td>5</td>\n",
       "      <td>403.0</td>\n",
       "      <td>14.7</td>\n",
       "      <td>389.61</td>\n",
       "      <td>1.92</td>\n",
       "      <td>50.0</td>\n",
       "      <td>42.630342</td>\n",
       "    </tr>\n",
       "  </tbody>\n",
       "</table>\n",
       "</div>"
      ],
      "text/plain": [
       "     crime_rate  zoned_land  industry  bounds_river  nox_conc  rooms    age  \\\n",
       "305     0.05479        33.0      2.18             0     0.472  6.616   58.1   \n",
       "407     1.95110         0.0     18.10             0     0.659  5.608  100.0   \n",
       "31      1.35472         0.0      8.14             0     0.538  6.072  100.0   \n",
       "107     0.13117         0.0      8.56             0     0.520  6.127   85.2   \n",
       "405     7.92080         0.0     18.10             0     0.693  5.683  100.0   \n",
       "275     0.09604        40.0      6.41             0     0.447  6.854   42.8   \n",
       "205     0.13642         0.0     10.59             0     0.489  5.891   22.3   \n",
       "369     5.66998         0.0     18.10             1     0.631  6.683   96.8   \n",
       "470     4.34879         0.0     18.10             0     0.580  6.167   84.0   \n",
       "330     0.04544         0.0      3.24             0     0.460  6.144   32.2   \n",
       "24      0.75026         0.0      8.14             0     0.538  5.924   94.1   \n",
       "53      0.04981        21.0      5.64             0     0.439  5.998   21.4   \n",
       "134     0.97617         0.0     21.89             0     0.624  5.757   98.4   \n",
       "3       0.03237         0.0      2.18             0     0.458  6.998   45.8   \n",
       "127     0.25915         0.0     21.89             0     0.624  5.693   96.0   \n",
       "110     0.10793         0.0      8.56             0     0.520  6.195   54.4   \n",
       "399     9.91655         0.0     18.10             0     0.693  5.852   77.8   \n",
       "185     0.06047         0.0      2.46             0     0.488  6.153   68.8   \n",
       "356     8.98296         0.0     18.10             1     0.770  6.212   97.4   \n",
       "162     1.83377         0.0     19.58             1     0.605  7.802   98.2   \n",
       "\n",
       "     distance  highways    tax  pt_ratio  b_estimator  pop_status  price  \\\n",
       "305    3.3700         7  222.0      18.4       393.36        8.93   28.4   \n",
       "407    1.2852         4  666.0      20.2       332.09       12.13   27.9   \n",
       "31     4.1750         4  307.0      21.0       376.73       13.04   14.5   \n",
       "107    2.1224         5  384.0      20.9       387.69       14.09   20.4   \n",
       "405    1.4254         4  666.0      20.2       384.97       22.98    5.0   \n",
       "275    4.2673         4  254.0      17.6       396.90        2.98   32.0   \n",
       "205    3.9454         4  277.0      18.6       396.90       10.87   22.6   \n",
       "369    1.3567         4  666.0      20.2       375.33        3.73   50.0   \n",
       "470    3.0334         4  666.0      20.2       396.90       16.29   19.9   \n",
       "330    5.8736         4  430.0      16.9       368.57        9.09   19.8   \n",
       "24     4.3996         4  307.0      21.0       394.33       16.30   15.6   \n",
       "53     6.8147         4  243.0      16.8       396.90        8.43   23.4   \n",
       "134    2.3460         4  437.0      21.2       262.76       17.31   15.6   \n",
       "3      6.0622         3  222.0      18.7       394.63        2.94   33.4   \n",
       "127    1.7883         4  437.0      21.2       392.11       17.19   16.2   \n",
       "110    2.7778         5  384.0      20.9       393.49       13.00   21.7   \n",
       "399    1.5004         4  666.0      20.2       338.16       29.97    6.3   \n",
       "185    3.2797         3  193.0      17.8       387.11       13.15   29.6   \n",
       "356    2.1222         4  666.0      20.2       377.73       17.60   17.8   \n",
       "162    2.0407         5  403.0      14.7       389.61        1.92   50.0   \n",
       "\n",
       "     predicted_price  \n",
       "305        28.540304  \n",
       "407        18.137067  \n",
       "31         18.667054  \n",
       "107        20.769747  \n",
       "405        13.829197  \n",
       "275        32.376536  \n",
       "205        22.173132  \n",
       "369        31.711113  \n",
       "470        18.755111  \n",
       "330        23.476008  \n",
       "24         16.097786  \n",
       "53         23.631963  \n",
       "134        14.224907  \n",
       "3          29.045356  \n",
       "127        15.680658  \n",
       "110        20.886525  \n",
       "399        10.715881  \n",
       "185        23.542265  \n",
       "356        20.131293  \n",
       "162        42.630342  "
      ]
     },
     "execution_count": 24,
     "metadata": {},
     "output_type": "execute_result"
    }
   ],
   "source": [
    "test_data"
   ]
  },
  {
   "cell_type": "code",
   "execution_count": 25,
   "metadata": {},
   "outputs": [
    {
     "data": {
      "text/plain": [
       "5.824308110099783"
      ]
     },
     "execution_count": 25,
     "metadata": {},
     "output_type": "execute_result"
    }
   ],
   "source": [
    "np.sqrt(mean_squared_error(test_data.price, test_data.predicted_price))"
   ]
  },
  {
   "cell_type": "markdown",
   "metadata": {},
   "source": [
    "## RANSAC"
   ]
  },
  {
   "cell_type": "code",
   "execution_count": 26,
   "metadata": {},
   "outputs": [],
   "source": [
    "ransac = RANSACRegressor(LinearRegression(), min_samples = 50, max_trials = 100, residual_threshold = 5.0)"
   ]
  },
  {
   "cell_type": "code",
   "execution_count": 27,
   "metadata": {},
   "outputs": [
    {
     "data": {
      "text/plain": [
       "RANSACRegressor(base_estimator=LinearRegression(copy_X=True, fit_intercept=True,\n",
       "                                                n_jobs=None, normalize=False),\n",
       "                is_data_valid=None, is_model_valid=None, loss='absolute_loss',\n",
       "                max_skips=inf, max_trials=100, min_samples=50,\n",
       "                random_state=None, residual_threshold=5.0, stop_n_inliers=inf,\n",
       "                stop_probability=0.99, stop_score=inf)"
      ]
     },
     "execution_count": 27,
     "metadata": {},
     "output_type": "execute_result"
    }
   ],
   "source": [
    "ransac.fit(attributes, target)"
   ]
  },
  {
   "cell_type": "code",
   "execution_count": 28,
   "metadata": {},
   "outputs": [
    {
     "data": {
      "text/plain": [
       "array([-2.18109825e-01, -5.74409285e-03,  3.79102863e-02,  1.62880980e+00,\n",
       "       -5.52986664e+00,  7.93968301e+00, -2.50424247e-02, -5.88454814e-01,\n",
       "        9.41802681e-02, -4.67142590e-03, -7.37652347e-01,  1.39543152e-02,\n",
       "       -2.59429233e-01])"
      ]
     },
     "execution_count": 28,
     "metadata": {},
     "output_type": "execute_result"
    }
   ],
   "source": [
    "ransac.estimator_.coef_"
   ]
  },
  {
   "cell_type": "code",
   "execution_count": 29,
   "metadata": {},
   "outputs": [
    {
     "data": {
      "text/plain": [
       "0.6590145319733779"
      ]
     },
     "execution_count": 29,
     "metadata": {},
     "output_type": "execute_result"
    }
   ],
   "source": [
    "ransac.score(attributes, target)"
   ]
  },
  {
   "cell_type": "code",
   "execution_count": 30,
   "metadata": {},
   "outputs": [],
   "source": [
    "inlier_attributes = attributes[ransac.inlier_mask_]\n",
    "inlier_target = target[ransac.inlier_mask_]"
   ]
  },
  {
   "cell_type": "code",
   "execution_count": 31,
   "metadata": {},
   "outputs": [
    {
     "data": {
      "text/plain": [
       "0.9159124289754914"
      ]
     },
     "execution_count": 31,
     "metadata": {},
     "output_type": "execute_result"
    }
   ],
   "source": [
    "ransac.score(inlier_attributes, inlier_target)"
   ]
  },
  {
   "cell_type": "code",
   "execution_count": 32,
   "metadata": {},
   "outputs": [],
   "source": [
    "outlier_attributes = attributes[~ransac.inlier_mask_]\n",
    "outlier_target = target[~ransac.inlier_mask_]"
   ]
  },
  {
   "cell_type": "code",
   "execution_count": 33,
   "metadata": {},
   "outputs": [
    {
     "data": {
      "text/plain": [
       "0.18933764566698955"
      ]
     },
     "execution_count": 33,
     "metadata": {},
     "output_type": "execute_result"
    }
   ],
   "source": [
    "ransac.score(outlier_attributes, outlier_target)"
   ]
  },
  {
   "cell_type": "markdown",
   "metadata": {},
   "source": [
    "## Polynomial Regression"
   ]
  },
  {
   "cell_type": "code",
   "execution_count": 34,
   "metadata": {},
   "outputs": [],
   "source": [
    "polynomial_transformer = PolynomialFeatures()"
   ]
  },
  {
   "cell_type": "code",
   "execution_count": 35,
   "metadata": {},
   "outputs": [
    {
     "data": {
      "text/plain": [
       "PolynomialFeatures(degree=2, include_bias=True, interaction_only=False,\n",
       "                   order='C')"
      ]
     },
     "execution_count": 35,
     "metadata": {},
     "output_type": "execute_result"
    }
   ],
   "source": [
    "polynomial_transformer.fit(attributes)"
   ]
  },
  {
   "cell_type": "code",
   "execution_count": 36,
   "metadata": {},
   "outputs": [],
   "source": [
    "second_degree_attributes = polynomial_transformer.transform(attributes)"
   ]
  },
  {
   "cell_type": "code",
   "execution_count": 37,
   "metadata": {},
   "outputs": [
    {
     "data": {
      "text/plain": [
       "(506, 105)"
      ]
     },
     "execution_count": 37,
     "metadata": {},
     "output_type": "execute_result"
    }
   ],
   "source": [
    "second_degree_attributes.shape"
   ]
  },
  {
   "cell_type": "code",
   "execution_count": 38,
   "metadata": {},
   "outputs": [],
   "source": [
    "second_degree_model = LinearRegression()"
   ]
  },
  {
   "cell_type": "code",
   "execution_count": 39,
   "metadata": {},
   "outputs": [
    {
     "data": {
      "text/plain": [
       "LinearRegression(copy_X=True, fit_intercept=True, n_jobs=None, normalize=False)"
      ]
     },
     "execution_count": 39,
     "metadata": {},
     "output_type": "execute_result"
    }
   ],
   "source": [
    "second_degree_model.fit(second_degree_attributes, target)"
   ]
  },
  {
   "cell_type": "code",
   "execution_count": 40,
   "metadata": {},
   "outputs": [
    {
     "data": {
      "text/plain": [
       "0.9006055895297789"
      ]
     },
     "execution_count": 40,
     "metadata": {},
     "output_type": "execute_result"
    }
   ],
   "source": [
    "second_degree_model.score(second_degree_attributes, target)"
   ]
  },
  {
   "cell_type": "markdown",
   "metadata": {},
   "source": [
    "## Logistic Regression"
   ]
  },
  {
   "cell_type": "code",
   "execution_count": 41,
   "metadata": {},
   "outputs": [],
   "source": [
    "iris = load_iris()"
   ]
  },
  {
   "cell_type": "code",
   "execution_count": 42,
   "metadata": {},
   "outputs": [],
   "source": [
    "iris_model = LogisticRegression(C = 1e9)"
   ]
  },
  {
   "cell_type": "code",
   "execution_count": 43,
   "metadata": {},
   "outputs": [
    {
     "data": {
      "text/plain": [
       "LogisticRegression(C=1000000000.0, class_weight=None, dual=False,\n",
       "                   fit_intercept=True, intercept_scaling=1, l1_ratio=None,\n",
       "                   max_iter=100, multi_class='auto', n_jobs=None, penalty='l2',\n",
       "                   random_state=None, solver='lbfgs', tol=0.0001, verbose=0,\n",
       "                   warm_start=False)"
      ]
     },
     "execution_count": 43,
     "metadata": {},
     "output_type": "execute_result"
    }
   ],
   "source": [
    "iris_model.fit(iris.data, iris.target)"
   ]
  },
  {
   "cell_type": "code",
   "execution_count": 44,
   "metadata": {},
   "outputs": [
    {
     "data": {
      "text/plain": [
       "0.9866666666666667"
      ]
     },
     "execution_count": 44,
     "metadata": {},
     "output_type": "execute_result"
    }
   ],
   "source": [
    "iris_model.score(iris.data, iris.target)"
   ]
  },
  {
   "cell_type": "code",
   "execution_count": 45,
   "metadata": {},
   "outputs": [],
   "source": [
    "iris_poly = PolynomialFeatures(degree = 4).fit_transform(iris.data)"
   ]
  },
  {
   "cell_type": "code",
   "execution_count": 46,
   "metadata": {},
   "outputs": [
    {
     "data": {
      "text/plain": [
       "(150, 70)"
      ]
     },
     "execution_count": 46,
     "metadata": {},
     "output_type": "execute_result"
    }
   ],
   "source": [
    "iris_poly.shape"
   ]
  },
  {
   "cell_type": "code",
   "execution_count": 47,
   "metadata": {},
   "outputs": [],
   "source": [
    "iris_model_poly = LogisticRegression()"
   ]
  },
  {
   "cell_type": "code",
   "execution_count": 48,
   "metadata": {},
   "outputs": [
    {
     "name": "stderr",
     "output_type": "stream",
     "text": [
      "C:\\Users\\petko\\anaconda3\\lib\\site-packages\\sklearn\\linear_model\\_logistic.py:940: ConvergenceWarning: lbfgs failed to converge (status=1):\n",
      "STOP: TOTAL NO. of ITERATIONS REACHED LIMIT.\n",
      "\n",
      "Increase the number of iterations (max_iter) or scale the data as shown in:\n",
      "    https://scikit-learn.org/stable/modules/preprocessing.html\n",
      "Please also refer to the documentation for alternative solver options:\n",
      "    https://scikit-learn.org/stable/modules/linear_model.html#logistic-regression\n",
      "  extra_warning_msg=_LOGISTIC_SOLVER_CONVERGENCE_MSG)\n"
     ]
    },
    {
     "data": {
      "text/plain": [
       "LogisticRegression(C=1.0, class_weight=None, dual=False, fit_intercept=True,\n",
       "                   intercept_scaling=1, l1_ratio=None, max_iter=100,\n",
       "                   multi_class='auto', n_jobs=None, penalty='l2',\n",
       "                   random_state=None, solver='lbfgs', tol=0.0001, verbose=0,\n",
       "                   warm_start=False)"
      ]
     },
     "execution_count": 48,
     "metadata": {},
     "output_type": "execute_result"
    }
   ],
   "source": [
    "iris_model_poly.fit(iris_poly.data, iris.target)"
   ]
  },
  {
   "cell_type": "code",
   "execution_count": 49,
   "metadata": {},
   "outputs": [
    {
     "data": {
      "text/plain": [
       "0.9866666666666667"
      ]
     },
     "execution_count": 49,
     "metadata": {},
     "output_type": "execute_result"
    }
   ],
   "source": [
    "iris_model_poly.score(iris_poly, iris.target)"
   ]
  },
  {
   "cell_type": "code",
   "execution_count": 50,
   "metadata": {},
   "outputs": [],
   "source": [
    "iris_testing_data = iris.data[:10]"
   ]
  },
  {
   "cell_type": "code",
   "execution_count": 51,
   "metadata": {},
   "outputs": [
    {
     "data": {
      "text/plain": [
       "array([0, 0, 0, 0, 0, 0, 0, 0, 0, 0])"
      ]
     },
     "execution_count": 51,
     "metadata": {},
     "output_type": "execute_result"
    }
   ],
   "source": [
    "iris_model.predict(iris_testing_data)"
   ]
  },
  {
   "cell_type": "code",
   "execution_count": 52,
   "metadata": {},
   "outputs": [
    {
     "data": {
      "text/plain": [
       "array([0, 0, 0, 0, 0, 0, 0, 0, 0, 0])"
      ]
     },
     "execution_count": 52,
     "metadata": {},
     "output_type": "execute_result"
    }
   ],
   "source": [
    "iris.target[:10]"
   ]
  },
  {
   "cell_type": "code",
   "execution_count": 53,
   "metadata": {},
   "outputs": [
    {
     "data": {
      "text/plain": [
       "array([[1.00000000e+00, 2.09849026e-31, 3.24053933e-58],\n",
       "       [1.00000000e+00, 1.23433269e-24, 8.81060983e-50],\n",
       "       [1.00000000e+00, 6.42931955e-28, 7.69223239e-54],\n",
       "       [1.00000000e+00, 8.92914017e-23, 1.75765533e-47],\n",
       "       [1.00000000e+00, 3.66133853e-32, 3.70905957e-59],\n",
       "       [1.00000000e+00, 4.56465373e-31, 1.52474263e-56],\n",
       "       [1.00000000e+00, 1.43611153e-27, 9.23659749e-53],\n",
       "       [1.00000000e+00, 4.98676049e-28, 4.93460074e-54],\n",
       "       [1.00000000e+00, 2.52600099e-21, 1.20632234e-45],\n",
       "       [1.00000000e+00, 1.41306652e-24, 2.13277204e-50]])"
      ]
     },
     "execution_count": 53,
     "metadata": {},
     "output_type": "execute_result"
    }
   ],
   "source": [
    "iris_model.predict_proba(iris_testing_data)"
   ]
  },
  {
   "cell_type": "code",
   "execution_count": 54,
   "metadata": {},
   "outputs": [
    {
     "data": {
      "text/plain": [
       "array([[  7.35271466,  20.39778454, -30.26348739, -14.14337754],\n",
       "       [ -2.44376492,  -6.85843959,  10.41704506,  -2.07138612],\n",
       "       [ -4.90894974, -13.53934495,  19.84644233,  16.21476366]])"
      ]
     },
     "execution_count": 54,
     "metadata": {},
     "output_type": "execute_result"
    }
   ],
   "source": [
    "iris_model.coef_"
   ]
  },
  {
   "cell_type": "code",
   "execution_count": 55,
   "metadata": {},
   "outputs": [
    {
     "data": {
      "text/plain": [
       "array([0, 0, 0, 0, 0, 0, 0, 0, 0, 0, 0, 0, 0, 0, 0, 0, 0, 0, 0, 0, 0, 0,\n",
       "       0, 0, 0, 0, 0, 0, 0, 0, 0, 0, 0, 0, 0, 0, 0, 0, 0, 0, 0, 0, 0, 0,\n",
       "       0, 0, 0, 0, 0, 0, 1, 1, 1, 1, 1, 1, 1, 1, 1, 1, 1, 1, 1, 1, 1, 1,\n",
       "       1, 1, 1, 1, 1, 1, 1, 1, 1, 1, 1, 1, 1, 1, 1, 1, 1, 1, 1, 1, 1, 1,\n",
       "       1, 1, 1, 1, 1, 1, 1, 1, 1, 1, 1, 1, 2, 2, 2, 2, 2, 2, 2, 2, 2, 2,\n",
       "       2, 2, 2, 2, 2, 2, 2, 2, 2, 2, 2, 2, 2, 2, 2, 2, 2, 2, 2, 2, 2, 2,\n",
       "       2, 2, 2, 2, 2, 2, 2, 2, 2, 2, 2, 2, 2, 2, 2, 2, 2, 2])"
      ]
     },
     "execution_count": 55,
     "metadata": {},
     "output_type": "execute_result"
    }
   ],
   "source": [
    "iris.target"
   ]
  },
  {
   "cell_type": "code",
   "execution_count": 56,
   "metadata": {},
   "outputs": [
    {
     "ename": "SyntaxError",
     "evalue": "invalid syntax (<ipython-input-56-85b1b6542e04>, line 1)",
     "output_type": "error",
     "traceback": [
      "\u001b[1;36m  File \u001b[1;32m\"<ipython-input-56-85b1b6542e04>\"\u001b[1;36m, line \u001b[1;32m1\u001b[0m\n\u001b[1;33m    \"Iris-setosa\" -> LabelEncoder\u001b[0m\n\u001b[1;37m                   ^\u001b[0m\n\u001b[1;31mSyntaxError\u001b[0m\u001b[1;31m:\u001b[0m invalid syntax\n"
     ]
    }
   ],
   "source": [
    "\"Iris-setosa\" -> LabelEncoder"
   ]
  },
  {
   "cell_type": "markdown",
   "metadata": {},
   "source": [
    "## Quiz"
   ]
  },
  {
   "cell_type": "code",
   "execution_count": 57,
   "metadata": {},
   "outputs": [],
   "source": [
    "wine_data = pd.read_csv(\"http://archive.ics.uci.edu/ml/machine-learning-databases/wine-quality/winequality-red.csv\", sep = \";\")"
   ]
  },
  {
   "cell_type": "code",
   "execution_count": 58,
   "metadata": {},
   "outputs": [
    {
     "data": {
      "text/html": [
       "<div>\n",
       "<style scoped>\n",
       "    .dataframe tbody tr th:only-of-type {\n",
       "        vertical-align: middle;\n",
       "    }\n",
       "\n",
       "    .dataframe tbody tr th {\n",
       "        vertical-align: top;\n",
       "    }\n",
       "\n",
       "    .dataframe thead th {\n",
       "        text-align: right;\n",
       "    }\n",
       "</style>\n",
       "<table border=\"1\" class=\"dataframe\">\n",
       "  <thead>\n",
       "    <tr style=\"text-align: right;\">\n",
       "      <th></th>\n",
       "      <th>fixed acidity</th>\n",
       "      <th>volatile acidity</th>\n",
       "      <th>citric acid</th>\n",
       "      <th>residual sugar</th>\n",
       "      <th>chlorides</th>\n",
       "      <th>free sulfur dioxide</th>\n",
       "      <th>total sulfur dioxide</th>\n",
       "      <th>density</th>\n",
       "      <th>pH</th>\n",
       "      <th>sulphates</th>\n",
       "      <th>alcohol</th>\n",
       "      <th>quality</th>\n",
       "    </tr>\n",
       "  </thead>\n",
       "  <tbody>\n",
       "    <tr>\n",
       "      <th>0</th>\n",
       "      <td>7.4</td>\n",
       "      <td>0.700</td>\n",
       "      <td>0.00</td>\n",
       "      <td>1.9</td>\n",
       "      <td>0.076</td>\n",
       "      <td>11.0</td>\n",
       "      <td>34.0</td>\n",
       "      <td>0.99780</td>\n",
       "      <td>3.51</td>\n",
       "      <td>0.56</td>\n",
       "      <td>9.4</td>\n",
       "      <td>5</td>\n",
       "    </tr>\n",
       "    <tr>\n",
       "      <th>1</th>\n",
       "      <td>7.8</td>\n",
       "      <td>0.880</td>\n",
       "      <td>0.00</td>\n",
       "      <td>2.6</td>\n",
       "      <td>0.098</td>\n",
       "      <td>25.0</td>\n",
       "      <td>67.0</td>\n",
       "      <td>0.99680</td>\n",
       "      <td>3.20</td>\n",
       "      <td>0.68</td>\n",
       "      <td>9.8</td>\n",
       "      <td>5</td>\n",
       "    </tr>\n",
       "    <tr>\n",
       "      <th>2</th>\n",
       "      <td>7.8</td>\n",
       "      <td>0.760</td>\n",
       "      <td>0.04</td>\n",
       "      <td>2.3</td>\n",
       "      <td>0.092</td>\n",
       "      <td>15.0</td>\n",
       "      <td>54.0</td>\n",
       "      <td>0.99700</td>\n",
       "      <td>3.26</td>\n",
       "      <td>0.65</td>\n",
       "      <td>9.8</td>\n",
       "      <td>5</td>\n",
       "    </tr>\n",
       "    <tr>\n",
       "      <th>3</th>\n",
       "      <td>11.2</td>\n",
       "      <td>0.280</td>\n",
       "      <td>0.56</td>\n",
       "      <td>1.9</td>\n",
       "      <td>0.075</td>\n",
       "      <td>17.0</td>\n",
       "      <td>60.0</td>\n",
       "      <td>0.99800</td>\n",
       "      <td>3.16</td>\n",
       "      <td>0.58</td>\n",
       "      <td>9.8</td>\n",
       "      <td>6</td>\n",
       "    </tr>\n",
       "    <tr>\n",
       "      <th>4</th>\n",
       "      <td>7.4</td>\n",
       "      <td>0.700</td>\n",
       "      <td>0.00</td>\n",
       "      <td>1.9</td>\n",
       "      <td>0.076</td>\n",
       "      <td>11.0</td>\n",
       "      <td>34.0</td>\n",
       "      <td>0.99780</td>\n",
       "      <td>3.51</td>\n",
       "      <td>0.56</td>\n",
       "      <td>9.4</td>\n",
       "      <td>5</td>\n",
       "    </tr>\n",
       "    <tr>\n",
       "      <th>...</th>\n",
       "      <td>...</td>\n",
       "      <td>...</td>\n",
       "      <td>...</td>\n",
       "      <td>...</td>\n",
       "      <td>...</td>\n",
       "      <td>...</td>\n",
       "      <td>...</td>\n",
       "      <td>...</td>\n",
       "      <td>...</td>\n",
       "      <td>...</td>\n",
       "      <td>...</td>\n",
       "      <td>...</td>\n",
       "    </tr>\n",
       "    <tr>\n",
       "      <th>1594</th>\n",
       "      <td>6.2</td>\n",
       "      <td>0.600</td>\n",
       "      <td>0.08</td>\n",
       "      <td>2.0</td>\n",
       "      <td>0.090</td>\n",
       "      <td>32.0</td>\n",
       "      <td>44.0</td>\n",
       "      <td>0.99490</td>\n",
       "      <td>3.45</td>\n",
       "      <td>0.58</td>\n",
       "      <td>10.5</td>\n",
       "      <td>5</td>\n",
       "    </tr>\n",
       "    <tr>\n",
       "      <th>1595</th>\n",
       "      <td>5.9</td>\n",
       "      <td>0.550</td>\n",
       "      <td>0.10</td>\n",
       "      <td>2.2</td>\n",
       "      <td>0.062</td>\n",
       "      <td>39.0</td>\n",
       "      <td>51.0</td>\n",
       "      <td>0.99512</td>\n",
       "      <td>3.52</td>\n",
       "      <td>0.76</td>\n",
       "      <td>11.2</td>\n",
       "      <td>6</td>\n",
       "    </tr>\n",
       "    <tr>\n",
       "      <th>1596</th>\n",
       "      <td>6.3</td>\n",
       "      <td>0.510</td>\n",
       "      <td>0.13</td>\n",
       "      <td>2.3</td>\n",
       "      <td>0.076</td>\n",
       "      <td>29.0</td>\n",
       "      <td>40.0</td>\n",
       "      <td>0.99574</td>\n",
       "      <td>3.42</td>\n",
       "      <td>0.75</td>\n",
       "      <td>11.0</td>\n",
       "      <td>6</td>\n",
       "    </tr>\n",
       "    <tr>\n",
       "      <th>1597</th>\n",
       "      <td>5.9</td>\n",
       "      <td>0.645</td>\n",
       "      <td>0.12</td>\n",
       "      <td>2.0</td>\n",
       "      <td>0.075</td>\n",
       "      <td>32.0</td>\n",
       "      <td>44.0</td>\n",
       "      <td>0.99547</td>\n",
       "      <td>3.57</td>\n",
       "      <td>0.71</td>\n",
       "      <td>10.2</td>\n",
       "      <td>5</td>\n",
       "    </tr>\n",
       "    <tr>\n",
       "      <th>1598</th>\n",
       "      <td>6.0</td>\n",
       "      <td>0.310</td>\n",
       "      <td>0.47</td>\n",
       "      <td>3.6</td>\n",
       "      <td>0.067</td>\n",
       "      <td>18.0</td>\n",
       "      <td>42.0</td>\n",
       "      <td>0.99549</td>\n",
       "      <td>3.39</td>\n",
       "      <td>0.66</td>\n",
       "      <td>11.0</td>\n",
       "      <td>6</td>\n",
       "    </tr>\n",
       "  </tbody>\n",
       "</table>\n",
       "<p>1599 rows × 12 columns</p>\n",
       "</div>"
      ],
      "text/plain": [
       "      fixed acidity  volatile acidity  citric acid  residual sugar  chlorides  \\\n",
       "0               7.4             0.700         0.00             1.9      0.076   \n",
       "1               7.8             0.880         0.00             2.6      0.098   \n",
       "2               7.8             0.760         0.04             2.3      0.092   \n",
       "3              11.2             0.280         0.56             1.9      0.075   \n",
       "4               7.4             0.700         0.00             1.9      0.076   \n",
       "...             ...               ...          ...             ...        ...   \n",
       "1594            6.2             0.600         0.08             2.0      0.090   \n",
       "1595            5.9             0.550         0.10             2.2      0.062   \n",
       "1596            6.3             0.510         0.13             2.3      0.076   \n",
       "1597            5.9             0.645         0.12             2.0      0.075   \n",
       "1598            6.0             0.310         0.47             3.6      0.067   \n",
       "\n",
       "      free sulfur dioxide  total sulfur dioxide  density    pH  sulphates  \\\n",
       "0                    11.0                  34.0  0.99780  3.51       0.56   \n",
       "1                    25.0                  67.0  0.99680  3.20       0.68   \n",
       "2                    15.0                  54.0  0.99700  3.26       0.65   \n",
       "3                    17.0                  60.0  0.99800  3.16       0.58   \n",
       "4                    11.0                  34.0  0.99780  3.51       0.56   \n",
       "...                   ...                   ...      ...   ...        ...   \n",
       "1594                 32.0                  44.0  0.99490  3.45       0.58   \n",
       "1595                 39.0                  51.0  0.99512  3.52       0.76   \n",
       "1596                 29.0                  40.0  0.99574  3.42       0.75   \n",
       "1597                 32.0                  44.0  0.99547  3.57       0.71   \n",
       "1598                 18.0                  42.0  0.99549  3.39       0.66   \n",
       "\n",
       "      alcohol  quality  \n",
       "0         9.4        5  \n",
       "1         9.8        5  \n",
       "2         9.8        5  \n",
       "3         9.8        6  \n",
       "4         9.4        5  \n",
       "...       ...      ...  \n",
       "1594     10.5        5  \n",
       "1595     11.2        6  \n",
       "1596     11.0        6  \n",
       "1597     10.2        5  \n",
       "1598     11.0        6  \n",
       "\n",
       "[1599 rows x 12 columns]"
      ]
     },
     "execution_count": 58,
     "metadata": {},
     "output_type": "execute_result"
    }
   ],
   "source": [
    "\n",
    "wine_data"
   ]
  },
  {
   "cell_type": "code",
   "execution_count": 66,
   "metadata": {},
   "outputs": [
    {
     "data": {
      "text/plain": [
       "LinearRegression(copy_X=True, fit_intercept=True, n_jobs=None, normalize=False)"
      ]
     },
     "execution_count": 66,
     "metadata": {},
     "output_type": "execute_result"
    }
   ],
   "source": [
    "anwine_model = LinearRegression()\n",
    "attributes_wine = wine_data.drop(\"quality\", axis = 1)\n",
    "target_wine = wine_data.quality\n",
    "model.fit(attributes_wine, target_wine)"
   ]
  },
  {
   "cell_type": "code",
   "execution_count": 67,
   "metadata": {},
   "outputs": [
    {
     "data": {
      "text/plain": [
       "21.965208449451673"
      ]
     },
     "execution_count": 67,
     "metadata": {},
     "output_type": "execute_result"
    }
   ],
   "source": [
    "model.intercept_"
   ]
  },
  {
   "cell_type": "code",
   "execution_count": 68,
   "metadata": {},
   "outputs": [
    {
     "data": {
      "text/plain": [
       "0.36055170303868833"
      ]
     },
     "execution_count": 68,
     "metadata": {},
     "output_type": "execute_result"
    }
   ],
   "source": [
    "model.score(attributes, target)"
   ]
  },
  {
   "cell_type": "code",
   "execution_count": 69,
   "metadata": {},
   "outputs": [
    {
     "data": {
      "text/plain": [
       "PolynomialFeatures(degree=2, include_bias=True, interaction_only=False,\n",
       "                   order='C')"
      ]
     },
     "execution_count": 69,
     "metadata": {},
     "output_type": "execute_result"
    }
   ],
   "source": [
    "polynomial_transformer.fit(attributes_wine)"
   ]
  },
  {
   "cell_type": "code",
   "execution_count": 70,
   "metadata": {},
   "outputs": [],
   "source": [
    "wine_poly = polynomial_transformer.transform(attributes_wine)"
   ]
  },
  {
   "cell_type": "code",
   "execution_count": 71,
   "metadata": {},
   "outputs": [
    {
     "data": {
      "text/plain": [
       "(1599, 78)"
      ]
     },
     "execution_count": 71,
     "metadata": {},
     "output_type": "execute_result"
    }
   ],
   "source": [
    "wine_poly.shape"
   ]
  },
  {
   "cell_type": "code",
   "execution_count": 72,
   "metadata": {},
   "outputs": [],
   "source": [
    "new_model = LinearRegression()"
   ]
  },
  {
   "cell_type": "code",
   "execution_count": 73,
   "metadata": {},
   "outputs": [
    {
     "data": {
      "text/plain": [
       "LinearRegression(copy_X=True, fit_intercept=True, n_jobs=None, normalize=False)"
      ]
     },
     "execution_count": 73,
     "metadata": {},
     "output_type": "execute_result"
    }
   ],
   "source": [
    "new_model.fit(wine_poly, target_wine)"
   ]
  },
  {
   "cell_type": "code",
   "execution_count": 74,
   "metadata": {},
   "outputs": [
    {
     "data": {
      "text/plain": [
       "0.4346357868787144"
      ]
     },
     "execution_count": 74,
     "metadata": {},
     "output_type": "execute_result"
    }
   ],
   "source": [
    "new_model.score(wine_poly, target_wine)"
   ]
  }
 ],
 "metadata": {
  "kernelspec": {
   "display_name": "Python 3",
   "language": "python",
   "name": "python3"
  },
  "language_info": {
   "codemirror_mode": {
    "name": "ipython",
    "version": 3
   },
   "file_extension": ".py",
   "mimetype": "text/x-python",
   "name": "python",
   "nbconvert_exporter": "python",
   "pygments_lexer": "ipython3",
   "version": "3.7.6"
  }
 },
 "nbformat": 4,
 "nbformat_minor": 4
}

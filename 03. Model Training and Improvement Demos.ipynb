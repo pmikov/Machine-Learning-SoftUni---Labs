{
 "cells": [
  {
   "cell_type": "code",
   "execution_count": 1,
   "metadata": {},
   "outputs": [],
   "source": [
    "%matplotlib inline"
   ]
  },
  {
   "cell_type": "code",
   "execution_count": 147,
   "metadata": {},
   "outputs": [],
   "source": [
    "import numpy as np\n",
    "import pandas as pd\n",
    "import matplotlib.pyplot as plt\n",
    "\n",
    "from sklearn.datasets import load_boston, load_iris\n",
    "\n",
    "from sklearn.preprocessing import MinMaxScaler, PolynomialFeatures\n",
    "\n",
    "from sklearn.model_selection import train_test_split, GridSearchCV\n",
    "\n",
    "from sklearn.linear_model import LinearRegression, ElasticNet, LogisticRegression\n",
    "\n",
    "from sklearn.metrics import mean_squared_error, roc_curve"
   ]
  },
  {
   "cell_type": "markdown",
   "metadata": {},
   "source": [
    "# Model Training and Improvement\n",
    "## Live Demos"
   ]
  },
  {
   "cell_type": "markdown",
   "metadata": {},
   "source": [
    "## Regularization"
   ]
  },
  {
   "cell_type": "code",
   "execution_count": 5,
   "metadata": {},
   "outputs": [],
   "source": [
    "house_attributes, prices = load_boston().data, load_boston().target"
   ]
  },
  {
   "cell_type": "code",
   "execution_count": 13,
   "metadata": {},
   "outputs": [
    {
     "data": {
      "image/png": "[encoded data removed]",
      "text/plain": [
       "<Figure size 432x288 with 1 Axes>"
      ]
     },
     "metadata": {
      "needs_background": "light"
     },
     "output_type": "display_data"
    }
   ],
   "source": [
    "plt.hist(house_attributes[:, 0], bins = \"fd\")\n",
    "plt.show()"
   ]
  },
  {
   "cell_type": "code",
   "execution_count": 14,
   "metadata": {},
   "outputs": [
    {
     "data": {
      "image/png": "[encoded data removed]",
      "text/plain": [
       "<Figure size 432x288 with 1 Axes>"
      ]
     },
     "metadata": {
      "needs_background": "light"
     },
     "output_type": "display_data"
    }
   ],
   "source": [
    "plt.hist(house_attributes[:, 1], bins = \"fd\")\n",
    "plt.show()"
   ]
  },
  {
   "cell_type": "code",
   "execution_count": 15,
   "metadata": {},
   "outputs": [
    {
     "data": {
      "image/png": "[encoded data removed]",
      "text/plain": [
       "<Figure size 432x288 with 1 Axes>"
      ]
     },
     "metadata": {
      "needs_background": "light"
     },
     "output_type": "display_data"
    }
   ],
   "source": [
    "plt.hist(house_attributes[:, 5], bins = \"fd\")\n",
    "plt.show()"
   ]
  },
  {
   "cell_type": "code",
   "execution_count": 41,
   "metadata": {},
   "outputs": [],
   "source": [
    "scaler = MinMaxScaler()"
   ]
  },
  {
   "cell_type": "code",
   "execution_count": 42,
   "metadata": {},
   "outputs": [],
   "source": [
    "house_attributes_scaled = scaler.fit_transform(house_attributes)"
   ]
  },
  {
   "cell_type": "code",
   "execution_count": 44,
   "metadata": {},
   "outputs": [],
   "source": [
    "house_linear_model = LinearRegression()"
   ]
  },
  {
   "cell_type": "code",
   "execution_count": 76,
   "metadata": {},
   "outputs": [
    {
     "data": {
      "text/plain": [
       "LinearRegression()"
      ]
     },
     "execution_count": 76,
     "metadata": {},
     "output_type": "execute_result"
    }
   ],
   "source": [
    "house_linear_model.fit(house_attributes_scaled, prices)"
   ]
  },
  {
   "cell_type": "code",
   "execution_count": 77,
   "metadata": {},
   "outputs": [
    {
     "data": {
      "text/plain": [
       "array([ -9.60975755,   4.64204584,   0.56083933,   2.68673382,\n",
       "        -8.63457306,  19.88368651,   0.06721501, -16.22666104,\n",
       "         7.03913802,  -6.46332721,  -8.95582398,   3.69282735,\n",
       "       -19.01724361])"
      ]
     },
     "execution_count": 77,
     "metadata": {},
     "output_type": "execute_result"
    }
   ],
   "source": [
    "house_linear_model.coef_"
   ]
  },
  {
   "cell_type": "code",
   "execution_count": 79,
   "metadata": {},
   "outputs": [
    {
     "data": {
      "text/plain": [
       "0.7406426641094095"
      ]
     },
     "execution_count": 79,
     "metadata": {},
     "output_type": "execute_result"
    }
   ],
   "source": [
    "house_linear_model.score(house_attributes_scaled, prices)"
   ]
  },
  {
   "cell_type": "code",
   "execution_count": 85,
   "metadata": {},
   "outputs": [],
   "source": [
    "house_elastic_net = ElasticNet(alpha = 0.1, l1_ratio = 0.2)"
   ]
  },
  {
   "cell_type": "code",
   "execution_count": 86,
   "metadata": {},
   "outputs": [
    {
     "data": {
      "text/plain": [
       "ElasticNet(alpha=0.1, l1_ratio=0.2)"
      ]
     },
     "execution_count": 86,
     "metadata": {},
     "output_type": "execute_result"
    }
   ],
   "source": [
    "house_elastic_net.fit(house_attributes_scaled, prices)"
   ]
  },
  {
   "cell_type": "code",
   "execution_count": 87,
   "metadata": {},
   "outputs": [
    {
     "data": {
      "text/plain": [
       "array([-0.97873356,  1.75189671, -2.34887534,  2.30256155, -1.73818704,\n",
       "        5.61112211, -1.30728516, -0.99468276, -0.58740467, -2.4460063 ,\n",
       "       -4.56635864,  2.07968869, -6.84804804])"
      ]
     },
     "execution_count": 87,
     "metadata": {},
     "output_type": "execute_result"
    }
   ],
   "source": [
    "house_elastic_net.coef_"
   ]
  },
  {
   "cell_type": "code",
   "execution_count": 88,
   "metadata": {},
   "outputs": [
    {
     "data": {
      "text/plain": [
       "0.5134818321500594"
      ]
     },
     "execution_count": 88,
     "metadata": {},
     "output_type": "execute_result"
    }
   ],
   "source": [
    "house_elastic_net.score(house_attributes_scaled, prices)"
   ]
  },
  {
   "cell_type": "code",
   "execution_count": 90,
   "metadata": {},
   "outputs": [],
   "source": [
    "iris_data, iris_types = load_iris().data, load_iris().target"
   ]
  },
  {
   "cell_type": "code",
   "execution_count": 94,
   "metadata": {},
   "outputs": [],
   "source": [
    "iris_data_scaled = MinMaxScaler().fit_transform(iris_data)"
   ]
  },
  {
   "cell_type": "code",
   "execution_count": 105,
   "metadata": {},
   "outputs": [],
   "source": [
    "iris_model = LogisticRegression(C = 0.0000001)"
   ]
  },
  {
   "cell_type": "code",
   "execution_count": 106,
   "metadata": {},
   "outputs": [
    {
     "data": {
      "text/plain": [
       "LogisticRegression(C=1e-07)"
      ]
     },
     "execution_count": 106,
     "metadata": {},
     "output_type": "execute_result"
    }
   ],
   "source": [
    "iris_model.fit(iris_data_scaled, iris_types)"
   ]
  },
  {
   "cell_type": "code",
   "execution_count": 107,
   "metadata": {},
   "outputs": [
    {
     "data": {
      "text/plain": [
       "array([[-1.16295896e-06,  7.72219565e-07, -1.94575602e-06,\n",
       "        -1.98610428e-06],\n",
       "       [ 1.28703261e-07, -5.98609051e-07,  4.25422265e-07,\n",
       "         2.63887981e-07],\n",
       "       [ 1.03425570e-06, -1.73610514e-07,  1.52033375e-06,\n",
       "         1.72221630e-06]])"
      ]
     },
     "execution_count": 107,
     "metadata": {},
     "output_type": "execute_result"
    }
   ],
   "source": [
    "iris_model.coef_"
   ]
  },
  {
   "cell_type": "code",
   "execution_count": 108,
   "metadata": {},
   "outputs": [
    {
     "data": {
      "text/plain": [
       "0.36666666666666664"
      ]
     },
     "execution_count": 108,
     "metadata": {},
     "output_type": "execute_result"
    }
   ],
   "source": [
    "iris_model.score(iris_data_scaled, iris_types)"
   ]
  },
  {
   "cell_type": "markdown",
   "metadata": {},
   "source": [
    "## Model Tasting"
   ]
  },
  {
   "cell_type": "code",
   "execution_count": 109,
   "metadata": {},
   "outputs": [
    {
     "data": {
      "text/plain": [
       "array([[0.00000000e+00, 1.80000000e-01, 6.78152493e-02, ...,\n",
       "        2.87234043e-01, 1.00000000e+00, 8.96799117e-02],\n",
       "       [2.35922539e-04, 0.00000000e+00, 2.42302053e-01, ...,\n",
       "        5.53191489e-01, 1.00000000e+00, 2.04470199e-01],\n",
       "       [2.35697744e-04, 0.00000000e+00, 2.42302053e-01, ...,\n",
       "        5.53191489e-01, 9.89737254e-01, 6.34657837e-02],\n",
       "       ...,\n",
       "       [6.11892474e-04, 0.00000000e+00, 4.20454545e-01, ...,\n",
       "        8.93617021e-01, 1.00000000e+00, 1.07891832e-01],\n",
       "       [1.16072990e-03, 0.00000000e+00, 4.20454545e-01, ...,\n",
       "        8.93617021e-01, 9.91300620e-01, 1.31070640e-01],\n",
       "       [4.61841693e-04, 0.00000000e+00, 4.20454545e-01, ...,\n",
       "        8.93617021e-01, 1.00000000e+00, 1.69701987e-01]])"
      ]
     },
     "execution_count": 109,
     "metadata": {},
     "output_type": "execute_result"
    }
   ],
   "source": [
    "house_attributes_scaled"
   ]
  },
  {
   "cell_type": "code",
   "execution_count": 114,
   "metadata": {},
   "outputs": [],
   "source": [
    "house_attributes_scaled_train, house_attributes_scaled_test, prices_train, prices_test = train_test_split(\n",
    "    house_attributes_scaled, prices, train_size = 0.7)"
   ]
  },
  {
   "cell_type": "code",
   "execution_count": 115,
   "metadata": {},
   "outputs": [
    {
     "data": {
      "text/plain": [
       "(354, 13)"
      ]
     },
     "execution_count": 115,
     "metadata": {},
     "output_type": "execute_result"
    }
   ],
   "source": [
    "house_attributes_scaled_train.shape"
   ]
  },
  {
   "cell_type": "code",
   "execution_count": 116,
   "metadata": {},
   "outputs": [
    {
     "data": {
      "text/plain": [
       "(152, 13)"
      ]
     },
     "execution_count": 116,
     "metadata": {},
     "output_type": "execute_result"
    }
   ],
   "source": [
    "house_attributes_scaled_test.shape"
   ]
  },
  {
   "cell_type": "code",
   "execution_count": 117,
   "metadata": {},
   "outputs": [
    {
     "data": {
      "text/plain": [
       "(354,)"
      ]
     },
     "execution_count": 117,
     "metadata": {},
     "output_type": "execute_result"
    }
   ],
   "source": [
    "prices_train.shape"
   ]
  },
  {
   "cell_type": "code",
   "execution_count": 118,
   "metadata": {},
   "outputs": [
    {
     "data": {
      "text/plain": [
       "(152,)"
      ]
     },
     "execution_count": 118,
     "metadata": {},
     "output_type": "execute_result"
    }
   ],
   "source": [
    "prices_test.shape"
   ]
  },
  {
   "cell_type": "code",
   "execution_count": 119,
   "metadata": {},
   "outputs": [],
   "source": [
    "house_lr = LinearRegression()"
   ]
  },
  {
   "cell_type": "code",
   "execution_count": 120,
   "metadata": {},
   "outputs": [
    {
     "data": {
      "text/plain": [
       "LinearRegression()"
      ]
     },
     "execution_count": 120,
     "metadata": {},
     "output_type": "execute_result"
    }
   ],
   "source": [
    "house_lr.fit(house_attributes_scaled_train, prices_train)"
   ]
  },
  {
   "cell_type": "code",
   "execution_count": 121,
   "metadata": {},
   "outputs": [
    {
     "data": {
      "text/plain": [
       "array([-11.77660774,   6.0814825 ,   0.45005638,   2.38391018,\n",
       "        -7.96132802,  15.27951442,  -0.27479783, -15.6331148 ,\n",
       "         8.01951696,  -7.92566187,  -9.4947226 ,   3.29540888,\n",
       "       -17.73384833])"
      ]
     },
     "execution_count": 121,
     "metadata": {},
     "output_type": "execute_result"
    }
   ],
   "source": [
    "house_lr.coef_"
   ]
  },
  {
   "cell_type": "code",
   "execution_count": 122,
   "metadata": {},
   "outputs": [
    {
     "data": {
      "text/plain": [
       "0.7274164283288873"
      ]
     },
     "execution_count": 122,
     "metadata": {},
     "output_type": "execute_result"
    }
   ],
   "source": [
    "house_lr.score(house_attributes_scaled_train, prices_train)"
   ]
  },
  {
   "cell_type": "code",
   "execution_count": 123,
   "metadata": {},
   "outputs": [
    {
     "data": {
      "text/plain": [
       "0.7450021252599642"
      ]
     },
     "execution_count": 123,
     "metadata": {},
     "output_type": "execute_result"
    }
   ],
   "source": [
    "house_lr.score(house_attributes_scaled_test, prices_test)"
   ]
  },
  {
   "cell_type": "code",
   "execution_count": 125,
   "metadata": {},
   "outputs": [
    {
     "data": {
      "text/plain": [
       "22.24441341275139"
      ]
     },
     "execution_count": 125,
     "metadata": {},
     "output_type": "execute_result"
    }
   ],
   "source": [
    "mean_squared_error(prices_train, house_lr.predict(house_attributes_scaled_train))"
   ]
  },
  {
   "cell_type": "code",
   "execution_count": 126,
   "metadata": {},
   "outputs": [
    {
     "data": {
      "text/plain": [
       "22.9178452551194"
      ]
     },
     "execution_count": 126,
     "metadata": {},
     "output_type": "execute_result"
    }
   ],
   "source": [
    "mean_squared_error(prices_test, house_lr.predict(house_attributes_scaled_test))"
   ]
  },
  {
   "cell_type": "code",
   "execution_count": 128,
   "metadata": {},
   "outputs": [],
   "source": [
    "test_price_predictions = house_lr.predict(house_attributes_scaled_test)"
   ]
  },
  {
   "cell_type": "code",
   "execution_count": 130,
   "metadata": {},
   "outputs": [
    {
     "data": {
      "text/plain": [
       "Text(0, 0.5, 'Predicted prices')"
      ]
     },
     "execution_count": 130,
     "metadata": {},
     "output_type": "execute_result"
    },
    {
     "data": {
      "image/png": "[encoded data removed]",
      "text/plain": [
       "<Figure size 432x288 with 1 Axes>"
      ]
     },
     "metadata": {
      "needs_background": "light"
     },
     "output_type": "display_data"
    }
   ],
   "source": [
    "plt.scatter(prices_test, test_price_predictions)\n",
    "plt.xlabel(\"Real prices\")\n",
    "plt.ylabel(\"Predicted prices\")"
   ]
  },
  {
   "cell_type": "code",
   "execution_count": 136,
   "metadata": {},
   "outputs": [
    {
     "data": {
      "image/png": "[encoded data removed]",
      "text/plain": [
       "<Figure size 432x288 with 1 Axes>"
      ]
     },
     "metadata": {
      "needs_background": "light"
     },
     "output_type": "display_data"
    }
   ],
   "source": [
    "plt.scatter(test_price_predictions, prices_test - test_price_predictions)\n",
    "plt.xlabel(\"Predicted prices\")\n",
    "plt.ylabel(\"Residuals\")\n",
    "plt.show()"
   ]
  },
  {
   "cell_type": "code",
   "execution_count": 142,
   "metadata": {},
   "outputs": [],
   "source": [
    "parameters = {\n",
    "    \"alpha\": [1e-3, 1e-2, 1e-1, 1],\n",
    "    \"l1_ratio\": [0.01, 0.1, 0.5, 1, 2, 5],\n",
    "    \"fit_intercept\": [True, False]\n",
    "}"
   ]
  },
  {
   "cell_type": "code",
   "execution_count": 143,
   "metadata": {},
   "outputs": [],
   "source": [
    "grid_search = GridSearchCV(ElasticNet(), param_grid = parameters, cv = 4)"
   ]
  },
  {
   "cell_type": "code",
   "execution_count": 144,
   "metadata": {},
   "outputs": [
    {
     "name": "stderr",
     "output_type": "stream",
     "text": [
      "C:\\Users\\Yordan\\Anaconda3\\envs\\tf2\\lib\\site-packages\\sklearn\\linear_model\\_coordinate_descent.py:531: ConvergenceWarning: Objective did not converge. You might want to increase the number of iterations. Duality gap: nan, tolerance: 2.1959877584905665\n",
      "  positive)\n",
      "C:\\Users\\Yordan\\Anaconda3\\envs\\tf2\\lib\\site-packages\\sklearn\\linear_model\\_coordinate_descent.py:531: ConvergenceWarning: Objective did not converge. You might want to increase the number of iterations. Duality gap: nan, tolerance: 2.0333999849056603\n",
      "  positive)\n",
      "C:\\Users\\Yordan\\Anaconda3\\envs\\tf2\\lib\\site-packages\\sklearn\\linear_model\\_coordinate_descent.py:531: ConvergenceWarning: Objective did not converge. You might want to increase the number of iterations. Duality gap: nan, tolerance: 2.163004364661654\n",
      "  positive)\n",
      "C:\\Users\\Yordan\\Anaconda3\\envs\\tf2\\lib\\site-packages\\sklearn\\linear_model\\_coordinate_descent.py:531: ConvergenceWarning: Objective did not converge. You might want to increase the number of iterations. Duality gap: nan, tolerance: 2.264853654135339\n",
      "  positive)\n",
      "C:\\Users\\Yordan\\Anaconda3\\envs\\tf2\\lib\\site-packages\\sklearn\\linear_model\\_coordinate_descent.py:531: ConvergenceWarning: Objective did not converge. You might want to increase the number of iterations. Duality gap: nan, tolerance: 2.1959877584905665\n",
      "  positive)\n",
      "C:\\Users\\Yordan\\Anaconda3\\envs\\tf2\\lib\\site-packages\\sklearn\\linear_model\\_coordinate_descent.py:531: ConvergenceWarning: Objective did not converge. You might want to increase the number of iterations. Duality gap: nan, tolerance: 2.0333999849056603\n",
      "  positive)\n",
      "C:\\Users\\Yordan\\Anaconda3\\envs\\tf2\\lib\\site-packages\\sklearn\\linear_model\\_coordinate_descent.py:531: ConvergenceWarning: Objective did not converge. You might want to increase the number of iterations. Duality gap: nan, tolerance: 2.163004364661654\n",
      "  positive)\n",
      "C:\\Users\\Yordan\\Anaconda3\\envs\\tf2\\lib\\site-packages\\sklearn\\linear_model\\_coordinate_descent.py:531: ConvergenceWarning: Objective did not converge. You might want to increase the number of iterations. Duality gap: nan, tolerance: 2.264853654135339\n",
      "  positive)\n",
      "C:\\Users\\Yordan\\Anaconda3\\envs\\tf2\\lib\\site-packages\\sklearn\\linear_model\\_coordinate_descent.py:531: ConvergenceWarning: Objective did not converge. You might want to increase the number of iterations. Duality gap: nan, tolerance: 15.655749\n",
      "  positive)\n",
      "C:\\Users\\Yordan\\Anaconda3\\envs\\tf2\\lib\\site-packages\\sklearn\\linear_model\\_coordinate_descent.py:531: ConvergenceWarning: Objective did not converge. You might want to increase the number of iterations. Duality gap: nan, tolerance: 14.906963999999999\n",
      "  positive)\n",
      "C:\\Users\\Yordan\\Anaconda3\\envs\\tf2\\lib\\site-packages\\sklearn\\metrics\\_regression.py:603: RuntimeWarning: overflow encountered in square\n",
      "  numerator = (weight * (y_true - y_pred) ** 2).sum(axis=0,\n",
      "C:\\Users\\Yordan\\Anaconda3\\envs\\tf2\\lib\\site-packages\\sklearn\\linear_model\\_coordinate_descent.py:531: ConvergenceWarning: Objective did not converge. You might want to increase the number of iterations. Duality gap: nan, tolerance: 15.396717000000002\n",
      "  positive)\n",
      "C:\\Users\\Yordan\\Anaconda3\\envs\\tf2\\lib\\site-packages\\sklearn\\metrics\\_regression.py:603: RuntimeWarning: overflow encountered in square\n",
      "  numerator = (weight * (y_true - y_pred) ** 2).sum(axis=0,\n",
      "C:\\Users\\Yordan\\Anaconda3\\envs\\tf2\\lib\\site-packages\\sklearn\\linear_model\\_coordinate_descent.py:531: ConvergenceWarning: Objective did not converge. You might want to increase the number of iterations. Duality gap: nan, tolerance: 14.841792000000005\n",
      "  positive)\n",
      "C:\\Users\\Yordan\\Anaconda3\\envs\\tf2\\lib\\site-packages\\sklearn\\linear_model\\_coordinate_descent.py:531: ConvergenceWarning: Objective did not converge. You might want to increase the number of iterations. Duality gap: nan, tolerance: 15.655749\n",
      "  positive)\n",
      "C:\\Users\\Yordan\\Anaconda3\\envs\\tf2\\lib\\site-packages\\sklearn\\linear_model\\_coordinate_descent.py:531: ConvergenceWarning: Objective did not converge. You might want to increase the number of iterations. Duality gap: nan, tolerance: 14.906963999999999\n",
      "  positive)\n",
      "C:\\Users\\Yordan\\Anaconda3\\envs\\tf2\\lib\\site-packages\\sklearn\\linear_model\\_coordinate_descent.py:531: ConvergenceWarning: Objective did not converge. You might want to increase the number of iterations. Duality gap: nan, tolerance: 15.396717000000002\n",
      "  positive)\n",
      "C:\\Users\\Yordan\\Anaconda3\\envs\\tf2\\lib\\site-packages\\sklearn\\linear_model\\_coordinate_descent.py:531: ConvergenceWarning: Objective did not converge. You might want to increase the number of iterations. Duality gap: nan, tolerance: 14.841792000000005\n",
      "  positive)\n",
      "C:\\Users\\Yordan\\Anaconda3\\envs\\tf2\\lib\\site-packages\\sklearn\\linear_model\\_coordinate_descent.py:531: ConvergenceWarning: Objective did not converge. You might want to increase the number of iterations. Duality gap: nan, tolerance: 2.1959877584905665\n",
      "  positive)\n",
      "C:\\Users\\Yordan\\Anaconda3\\envs\\tf2\\lib\\site-packages\\sklearn\\linear_model\\_coordinate_descent.py:531: ConvergenceWarning: Objective did not converge. You might want to increase the number of iterations. Duality gap: nan, tolerance: 2.0333999849056603\n",
      "  positive)\n",
      "C:\\Users\\Yordan\\Anaconda3\\envs\\tf2\\lib\\site-packages\\sklearn\\linear_model\\_coordinate_descent.py:531: ConvergenceWarning: Objective did not converge. You might want to increase the number of iterations. Duality gap: nan, tolerance: 2.163004364661654\n",
      "  positive)\n",
      "C:\\Users\\Yordan\\Anaconda3\\envs\\tf2\\lib\\site-packages\\sklearn\\linear_model\\_coordinate_descent.py:531: ConvergenceWarning: Objective did not converge. You might want to increase the number of iterations. Duality gap: nan, tolerance: 2.264853654135339\n",
      "  positive)\n",
      "C:\\Users\\Yordan\\Anaconda3\\envs\\tf2\\lib\\site-packages\\sklearn\\linear_model\\_coordinate_descent.py:531: ConvergenceWarning: Objective did not converge. You might want to increase the number of iterations. Duality gap: 1.1924588398249712e+154, tolerance: 2.1959877584905665\n",
      "  positive)\n",
      "C:\\Users\\Yordan\\Anaconda3\\envs\\tf2\\lib\\site-packages\\sklearn\\linear_model\\_coordinate_descent.py:531: ConvergenceWarning: Objective did not converge. You might want to increase the number of iterations. Duality gap: 7.193651377948539e+108, tolerance: 2.0333999849056603\n",
      "  positive)\n",
      "C:\\Users\\Yordan\\Anaconda3\\envs\\tf2\\lib\\site-packages\\sklearn\\linear_model\\_coordinate_descent.py:531: ConvergenceWarning: Objective did not converge. You might want to increase the number of iterations. Duality gap: 1.461757441924284e+67, tolerance: 2.163004364661654\n",
      "  positive)\n",
      "C:\\Users\\Yordan\\Anaconda3\\envs\\tf2\\lib\\site-packages\\sklearn\\linear_model\\_coordinate_descent.py:531: ConvergenceWarning: Objective did not converge. You might want to increase the number of iterations. Duality gap: 1.2443139217519354e+265, tolerance: 2.264853654135339\n",
      "  positive)\n",
      "C:\\Users\\Yordan\\Anaconda3\\envs\\tf2\\lib\\site-packages\\sklearn\\linear_model\\_coordinate_descent.py:531: ConvergenceWarning: Objective did not converge. You might want to increase the number of iterations. Duality gap: nan, tolerance: 15.655749\n",
      "  positive)\n",
      "C:\\Users\\Yordan\\Anaconda3\\envs\\tf2\\lib\\site-packages\\sklearn\\linear_model\\_coordinate_descent.py:531: ConvergenceWarning: Objective did not converge. You might want to increase the number of iterations. Duality gap: nan, tolerance: 14.906963999999999\n",
      "  positive)\n",
      "C:\\Users\\Yordan\\Anaconda3\\envs\\tf2\\lib\\site-packages\\sklearn\\linear_model\\_coordinate_descent.py:531: ConvergenceWarning: Objective did not converge. You might want to increase the number of iterations. Duality gap: nan, tolerance: 15.396717000000002\n",
      "  positive)\n",
      "C:\\Users\\Yordan\\Anaconda3\\envs\\tf2\\lib\\site-packages\\sklearn\\linear_model\\_coordinate_descent.py:531: ConvergenceWarning: Objective did not converge. You might want to increase the number of iterations. Duality gap: nan, tolerance: 14.841792000000005\n",
      "  positive)\n",
      "C:\\Users\\Yordan\\Anaconda3\\envs\\tf2\\lib\\site-packages\\sklearn\\linear_model\\_coordinate_descent.py:531: ConvergenceWarning: Objective did not converge. You might want to increase the number of iterations. Duality gap: nan, tolerance: 15.655749\n",
      "  positive)\n",
      "C:\\Users\\Yordan\\Anaconda3\\envs\\tf2\\lib\\site-packages\\sklearn\\linear_model\\_coordinate_descent.py:531: ConvergenceWarning: Objective did not converge. You might want to increase the number of iterations. Duality gap: nan, tolerance: 14.906963999999999\n",
      "  positive)\n",
      "C:\\Users\\Yordan\\Anaconda3\\envs\\tf2\\lib\\site-packages\\sklearn\\linear_model\\_coordinate_descent.py:531: ConvergenceWarning: Objective did not converge. You might want to increase the number of iterations. Duality gap: nan, tolerance: 15.396717000000002\n",
      "  positive)\n",
      "C:\\Users\\Yordan\\Anaconda3\\envs\\tf2\\lib\\site-packages\\sklearn\\linear_model\\_coordinate_descent.py:531: ConvergenceWarning: Objective did not converge. You might want to increase the number of iterations. Duality gap: nan, tolerance: 14.841792000000005\n",
      "  positive)\n",
      "C:\\Users\\Yordan\\Anaconda3\\envs\\tf2\\lib\\site-packages\\sklearn\\linear_model\\_coordinate_descent.py:531: ConvergenceWarning: Objective did not converge. You might want to increase the number of iterations. Duality gap: nan, tolerance: 15.655749\n",
      "  positive)\n",
      "C:\\Users\\Yordan\\Anaconda3\\envs\\tf2\\lib\\site-packages\\sklearn\\linear_model\\_coordinate_descent.py:531: ConvergenceWarning: Objective did not converge. You might want to increase the number of iterations. Duality gap: nan, tolerance: 14.906963999999999\n",
      "  positive)\n",
      "C:\\Users\\Yordan\\Anaconda3\\envs\\tf2\\lib\\site-packages\\sklearn\\linear_model\\_coordinate_descent.py:531: ConvergenceWarning: Objective did not converge. You might want to increase the number of iterations. Duality gap: nan, tolerance: 15.396717000000002\n",
      "  positive)\n",
      "C:\\Users\\Yordan\\Anaconda3\\envs\\tf2\\lib\\site-packages\\sklearn\\linear_model\\_coordinate_descent.py:531: ConvergenceWarning: Objective did not converge. You might want to increase the number of iterations. Duality gap: nan, tolerance: 14.841792000000005\n",
      "  positive)\n",
      "C:\\Users\\Yordan\\Anaconda3\\envs\\tf2\\lib\\site-packages\\sklearn\\linear_model\\_coordinate_descent.py:531: ConvergenceWarning: Objective did not converge. You might want to increase the number of iterations. Duality gap: 130905.12354480359, tolerance: 15.655749\n",
      "  positive)\n",
      "C:\\Users\\Yordan\\Anaconda3\\envs\\tf2\\lib\\site-packages\\sklearn\\linear_model\\_coordinate_descent.py:531: ConvergenceWarning: Objective did not converge. You might want to increase the number of iterations. Duality gap: 127879.51808697113, tolerance: 14.906963999999999\n",
      "  positive)\n",
      "C:\\Users\\Yordan\\Anaconda3\\envs\\tf2\\lib\\site-packages\\sklearn\\linear_model\\_coordinate_descent.py:531: ConvergenceWarning: Objective did not converge. You might want to increase the number of iterations. Duality gap: 128712.27032678493, tolerance: 15.396717000000002\n",
      "  positive)\n",
      "C:\\Users\\Yordan\\Anaconda3\\envs\\tf2\\lib\\site-packages\\sklearn\\linear_model\\_coordinate_descent.py:531: ConvergenceWarning: Objective did not converge. You might want to increase the number of iterations. Duality gap: 129452.63134144037, tolerance: 14.841792000000005\n",
      "  positive)\n",
      "C:\\Users\\Yordan\\Anaconda3\\envs\\tf2\\lib\\site-packages\\sklearn\\model_selection\\_search.py:814: RuntimeWarning: invalid value encountered in subtract\n",
      "  array_means[:, np.newaxis]) ** 2,\n",
      "C:\\Users\\Yordan\\Anaconda3\\envs\\tf2\\lib\\site-packages\\sklearn\\model_selection\\_search.py:814: RuntimeWarning: overflow encountered in square\n",
      "  array_means[:, np.newaxis]) ** 2,\n"
     ]
    },
    {
     "data": {
      "text/plain": [
       "GridSearchCV(cv=4, estimator=ElasticNet(),\n",
       "             param_grid={'alpha': [0.001, 0.01, 0.1, 1],\n",
       "                         'fit_intercept': [True, False],\n",
       "                         'l1_ratio': [0.01, 0.1, 0.5, 1, 2, 5]})"
      ]
     },
     "execution_count": 144,
     "metadata": {},
     "output_type": "execute_result"
    }
   ],
   "source": [
    "grid_search.fit(house_attributes_scaled_train, prices_train)"
   ]
  },
  {
   "cell_type": "code",
   "execution_count": 145,
   "metadata": {},
   "outputs": [
    {
     "data": {
      "text/plain": [
       "ElasticNet(alpha=0.001, l1_ratio=0.01)"
      ]
     },
     "execution_count": 145,
     "metadata": {},
     "output_type": "execute_result"
    }
   ],
   "source": [
    "grid_search.best_estimator_"
   ]
  },
  {
   "cell_type": "code",
   "execution_count": 146,
   "metadata": {},
   "outputs": [
    {
     "data": {
      "text/plain": [
       "{'alpha': 0.001, 'fit_intercept': True, 'l1_ratio': 0.01}"
      ]
     },
     "execution_count": 146,
     "metadata": {},
     "output_type": "execute_result"
    }
   ],
   "source": [
    "grid_search.best_params_"
   ]
  },
  {
   "cell_type": "code",
   "execution_count": 155,
   "metadata": {},
   "outputs": [],
   "source": [
    "polynomial = PolynomialFeatures(degree = 2, interaction_only = True).fit(house_attributes_scaled_train)"
   ]
  },
  {
   "cell_type": "code",
   "execution_count": 156,
   "metadata": {},
   "outputs": [],
   "source": [
    "house_attributes_poly_train = polynomial.transform(house_attributes_scaled_train)"
   ]
  },
  {
   "cell_type": "code",
   "execution_count": 157,
   "metadata": {},
   "outputs": [],
   "source": [
    "house_attributes_poly_test = polynomial.transform(house_attributes_scaled_test)"
   ]
  },
  {
   "cell_type": "code",
   "execution_count": 164,
   "metadata": {},
   "outputs": [],
   "source": [
    "parameters = {\n",
    "    \"alpha\": [0.0001, 0.001, 0.01, 0.1, 1],\n",
    "    \"l1_ratio\": [0.01, 0.1, 1],\n",
    "    \"fit_intercept\": [True, False]\n",
    "}"
   ]
  },
  {
   "cell_type": "code",
   "execution_count": 165,
   "metadata": {},
   "outputs": [],
   "source": [
    "grid_search = GridSearchCV(ElasticNet(), param_grid = parameters, cv = 4)"
   ]
  },
  {
   "cell_type": "code",
   "execution_count": 166,
   "metadata": {},
   "outputs": [
    {
     "name": "stderr",
     "output_type": "stream",
     "text": [
      "C:\\Users\\Yordan\\Anaconda3\\envs\\tf2\\lib\\site-packages\\sklearn\\linear_model\\_coordinate_descent.py:531: ConvergenceWarning: Objective did not converge. You might want to increase the number of iterations. Duality gap: 1920.4717197170958, tolerance: 2.1959877584905665\n",
      "  positive)\n",
      "C:\\Users\\Yordan\\Anaconda3\\envs\\tf2\\lib\\site-packages\\sklearn\\linear_model\\_coordinate_descent.py:531: ConvergenceWarning: Objective did not converge. You might want to increase the number of iterations. Duality gap: 1942.5282570671625, tolerance: 2.0333999849056603\n",
      "  positive)\n",
      "C:\\Users\\Yordan\\Anaconda3\\envs\\tf2\\lib\\site-packages\\sklearn\\linear_model\\_coordinate_descent.py:531: ConvergenceWarning: Objective did not converge. You might want to increase the number of iterations. Duality gap: 1867.021108426085, tolerance: 2.163004364661654\n",
      "  positive)\n",
      "C:\\Users\\Yordan\\Anaconda3\\envs\\tf2\\lib\\site-packages\\sklearn\\linear_model\\_coordinate_descent.py:531: ConvergenceWarning: Objective did not converge. You might want to increase the number of iterations. Duality gap: 1899.544088546182, tolerance: 2.264853654135339\n",
      "  positive)\n",
      "C:\\Users\\Yordan\\Anaconda3\\envs\\tf2\\lib\\site-packages\\sklearn\\linear_model\\_coordinate_descent.py:531: ConvergenceWarning: Objective did not converge. You might want to increase the number of iterations. Duality gap: 1818.479727249952, tolerance: 2.1959877584905665\n",
      "  positive)\n",
      "C:\\Users\\Yordan\\Anaconda3\\envs\\tf2\\lib\\site-packages\\sklearn\\linear_model\\_coordinate_descent.py:531: ConvergenceWarning: Objective did not converge. You might want to increase the number of iterations. Duality gap: 1839.1739047097062, tolerance: 2.0333999849056603\n",
      "  positive)\n",
      "C:\\Users\\Yordan\\Anaconda3\\envs\\tf2\\lib\\site-packages\\sklearn\\linear_model\\_coordinate_descent.py:531: ConvergenceWarning: Objective did not converge. You might want to increase the number of iterations. Duality gap: 1782.9086116395274, tolerance: 2.163004364661654\n",
      "  positive)\n",
      "C:\\Users\\Yordan\\Anaconda3\\envs\\tf2\\lib\\site-packages\\sklearn\\linear_model\\_coordinate_descent.py:531: ConvergenceWarning: Objective did not converge. You might want to increase the number of iterations. Duality gap: 1826.258881549745, tolerance: 2.264853654135339\n",
      "  positive)\n",
      "C:\\Users\\Yordan\\Anaconda3\\envs\\tf2\\lib\\site-packages\\sklearn\\linear_model\\_coordinate_descent.py:531: ConvergenceWarning: Objective did not converge. You might want to increase the number of iterations. Duality gap: 1978.4397047023156, tolerance: 15.655749\n",
      "  positive)\n",
      "C:\\Users\\Yordan\\Anaconda3\\envs\\tf2\\lib\\site-packages\\sklearn\\linear_model\\_coordinate_descent.py:531: ConvergenceWarning: Objective did not converge. You might want to increase the number of iterations. Duality gap: 2006.4122822023662, tolerance: 14.906963999999999\n",
      "  positive)\n",
      "C:\\Users\\Yordan\\Anaconda3\\envs\\tf2\\lib\\site-packages\\sklearn\\linear_model\\_coordinate_descent.py:531: ConvergenceWarning: Objective did not converge. You might want to increase the number of iterations. Duality gap: 1944.285082845699, tolerance: 15.396717000000002\n",
      "  positive)\n",
      "C:\\Users\\Yordan\\Anaconda3\\envs\\tf2\\lib\\site-packages\\sklearn\\linear_model\\_coordinate_descent.py:531: ConvergenceWarning: Objective did not converge. You might want to increase the number of iterations. Duality gap: 1966.6095508720607, tolerance: 14.841792000000005\n",
      "  positive)\n",
      "C:\\Users\\Yordan\\Anaconda3\\envs\\tf2\\lib\\site-packages\\sklearn\\linear_model\\_coordinate_descent.py:531: ConvergenceWarning: Objective did not converge. You might want to increase the number of iterations. Duality gap: 1914.7638572203298, tolerance: 15.655749\n",
      "  positive)\n",
      "C:\\Users\\Yordan\\Anaconda3\\envs\\tf2\\lib\\site-packages\\sklearn\\linear_model\\_coordinate_descent.py:531: ConvergenceWarning: Objective did not converge. You might want to increase the number of iterations. Duality gap: 1945.877694334894, tolerance: 14.906963999999999\n",
      "  positive)\n",
      "C:\\Users\\Yordan\\Anaconda3\\envs\\tf2\\lib\\site-packages\\sklearn\\linear_model\\_coordinate_descent.py:531: ConvergenceWarning: Objective did not converge. You might want to increase the number of iterations. Duality gap: 1889.7077533617614, tolerance: 15.396717000000002\n",
      "  positive)\n",
      "C:\\Users\\Yordan\\Anaconda3\\envs\\tf2\\lib\\site-packages\\sklearn\\linear_model\\_coordinate_descent.py:531: ConvergenceWarning: Objective did not converge. You might want to increase the number of iterations. Duality gap: 1910.9088245540308, tolerance: 14.841792000000005\n",
      "  positive)\n",
      "C:\\Users\\Yordan\\Anaconda3\\envs\\tf2\\lib\\site-packages\\sklearn\\linear_model\\_coordinate_descent.py:531: ConvergenceWarning: Objective did not converge. You might want to increase the number of iterations. Duality gap: 9.02863398694626, tolerance: 2.1959877584905665\n",
      "  positive)\n",
      "C:\\Users\\Yordan\\Anaconda3\\envs\\tf2\\lib\\site-packages\\sklearn\\linear_model\\_coordinate_descent.py:531: ConvergenceWarning: Objective did not converge. You might want to increase the number of iterations. Duality gap: 9.951088523281214, tolerance: 2.0333999849056603\n",
      "  positive)\n",
      "C:\\Users\\Yordan\\Anaconda3\\envs\\tf2\\lib\\site-packages\\sklearn\\linear_model\\_coordinate_descent.py:531: ConvergenceWarning: Objective did not converge. You might want to increase the number of iterations. Duality gap: 10.262669578611167, tolerance: 2.163004364661654\n",
      "  positive)\n",
      "C:\\Users\\Yordan\\Anaconda3\\envs\\tf2\\lib\\site-packages\\sklearn\\linear_model\\_coordinate_descent.py:531: ConvergenceWarning: Objective did not converge. You might want to increase the number of iterations. Duality gap: 43.18370045758638, tolerance: 2.264853654135339\n",
      "  positive)\n",
      "C:\\Users\\Yordan\\Anaconda3\\envs\\tf2\\lib\\site-packages\\sklearn\\linear_model\\_coordinate_descent.py:531: ConvergenceWarning: Objective did not converge. You might want to increase the number of iterations. Duality gap: 3322.998931380963, tolerance: 15.655749\n",
      "  positive)\n",
      "C:\\Users\\Yordan\\Anaconda3\\envs\\tf2\\lib\\site-packages\\sklearn\\linear_model\\_coordinate_descent.py:531: ConvergenceWarning: Objective did not converge. You might want to increase the number of iterations. Duality gap: 3323.4742637976415, tolerance: 14.906963999999999\n",
      "  positive)\n",
      "C:\\Users\\Yordan\\Anaconda3\\envs\\tf2\\lib\\site-packages\\sklearn\\linear_model\\_coordinate_descent.py:531: ConvergenceWarning: Objective did not converge. You might want to increase the number of iterations. Duality gap: 3304.442359409485, tolerance: 15.396717000000002\n",
      "  positive)\n",
      "C:\\Users\\Yordan\\Anaconda3\\envs\\tf2\\lib\\site-packages\\sklearn\\linear_model\\_coordinate_descent.py:531: ConvergenceWarning: Objective did not converge. You might want to increase the number of iterations. Duality gap: 3316.39392007015, tolerance: 14.841792000000005\n",
      "  positive)\n",
      "C:\\Users\\Yordan\\Anaconda3\\envs\\tf2\\lib\\site-packages\\sklearn\\linear_model\\_coordinate_descent.py:531: ConvergenceWarning: Objective did not converge. You might want to increase the number of iterations. Duality gap: 2384.043401910326, tolerance: 15.655749\n",
      "  positive)\n",
      "C:\\Users\\Yordan\\Anaconda3\\envs\\tf2\\lib\\site-packages\\sklearn\\linear_model\\_coordinate_descent.py:531: ConvergenceWarning: Objective did not converge. You might want to increase the number of iterations. Duality gap: 2370.588232799026, tolerance: 14.906963999999999\n",
      "  positive)\n",
      "C:\\Users\\Yordan\\Anaconda3\\envs\\tf2\\lib\\site-packages\\sklearn\\linear_model\\_coordinate_descent.py:531: ConvergenceWarning: Objective did not converge. You might want to increase the number of iterations. Duality gap: 2518.2910926767595, tolerance: 15.396717000000002\n",
      "  positive)\n",
      "C:\\Users\\Yordan\\Anaconda3\\envs\\tf2\\lib\\site-packages\\sklearn\\linear_model\\_coordinate_descent.py:531: ConvergenceWarning: Objective did not converge. You might want to increase the number of iterations. Duality gap: 2461.0135458055142, tolerance: 14.841792000000005\n",
      "  positive)\n",
      "C:\\Users\\Yordan\\Anaconda3\\envs\\tf2\\lib\\site-packages\\sklearn\\linear_model\\_coordinate_descent.py:531: ConvergenceWarning: Objective did not converge. You might want to increase the number of iterations. Duality gap: 2663.218899787889, tolerance: 20.267074\n",
      "  positive)\n"
     ]
    },
    {
     "data": {
      "text/plain": [
       "GridSearchCV(cv=4, estimator=ElasticNet(),\n",
       "             param_grid={'alpha': [0.001, 0.01], 'fit_intercept': [True, False],\n",
       "                         'l1_ratio': [0.01, 0.1]})"
      ]
     },
     "execution_count": 166,
     "metadata": {},
     "output_type": "execute_result"
    }
   ],
   "source": [
    "grid_search.fit(house_attributes_poly_train, prices_train)"
   ]
  },
  {
   "cell_type": "code",
   "execution_count": 167,
   "metadata": {},
   "outputs": [
    {
     "data": {
      "text/plain": [
       "GridSearchCV(cv=4, estimator=ElasticNet(),\n",
       "             param_grid={'alpha': [0.001, 0.01], 'fit_intercept': [True, False],\n",
       "                         'l1_ratio': [0.01, 0.1]})"
      ]
     },
     "execution_count": 167,
     "metadata": {},
     "output_type": "execute_result"
    }
   ],
   "source": [
    "grid_search"
   ]
  },
  {
   "cell_type": "code",
   "execution_count": 168,
   "metadata": {},
   "outputs": [
    {
     "data": {
      "text/plain": [
       "ElasticNet(alpha=0.001, fit_intercept=False, l1_ratio=0.1)"
      ]
     },
     "execution_count": 168,
     "metadata": {},
     "output_type": "execute_result"
    }
   ],
   "source": [
    "grid_search.best_estimator_"
   ]
  },
  {
   "cell_type": "code",
   "execution_count": 169,
   "metadata": {},
   "outputs": [
    {
     "data": {
      "text/plain": [
       "{'mean_fit_time': array([0.0244413 , 0.02194113, 0.02318799, 0.02318817, 0.02667868,\n",
       "        0.02343714, 0.0239374 , 0.02343696]),\n",
       " 'std_fit_time': array([0.00326868, 0.00211625, 0.00147504, 0.00369039, 0.00237848,\n",
       "        0.00349024, 0.00373024, 0.00149661]),\n",
       " 'mean_score_time': array([0.0002498 , 0.00074804, 0.00049859, 0.00049859, 0.00024927,\n",
       "        0.00074834, 0.00099611, 0.00099766]),\n",
       " 'std_score_time': array([4.32671603e-04, 4.31880120e-04, 8.63588155e-04, 4.98593032e-04,\n",
       "        4.31742458e-04, 4.32052272e-04, 1.33812096e-06, 7.05369747e-04]),\n",
       " 'param_alpha': masked_array(data=[0.001, 0.001, 0.001, 0.001, 0.01, 0.01, 0.01, 0.01],\n",
       "              mask=[False, False, False, False, False, False, False, False],\n",
       "        fill_value='?',\n",
       "             dtype=object),\n",
       " 'param_fit_intercept': masked_array(data=[True, True, False, False, True, True, False, False],\n",
       "              mask=[False, False, False, False, False, False, False, False],\n",
       "        fill_value='?',\n",
       "             dtype=object),\n",
       " 'param_l1_ratio': masked_array(data=[0.01, 0.1, 0.01, 0.1, 0.01, 0.1, 0.01, 0.1],\n",
       "              mask=[False, False, False, False, False, False, False, False],\n",
       "        fill_value='?',\n",
       "             dtype=object),\n",
       " 'params': [{'alpha': 0.001, 'fit_intercept': True, 'l1_ratio': 0.01},\n",
       "  {'alpha': 0.001, 'fit_intercept': True, 'l1_ratio': 0.1},\n",
       "  {'alpha': 0.001, 'fit_intercept': False, 'l1_ratio': 0.01},\n",
       "  {'alpha': 0.001, 'fit_intercept': False, 'l1_ratio': 0.1},\n",
       "  {'alpha': 0.01, 'fit_intercept': True, 'l1_ratio': 0.01},\n",
       "  {'alpha': 0.01, 'fit_intercept': True, 'l1_ratio': 0.1},\n",
       "  {'alpha': 0.01, 'fit_intercept': False, 'l1_ratio': 0.01},\n",
       "  {'alpha': 0.01, 'fit_intercept': False, 'l1_ratio': 0.1}],\n",
       " 'split0_test_score': array([0.77652212, 0.77783491, 0.78769438, 0.78816947, 0.72837931,\n",
       "        0.73045784, 0.72117834, 0.72479441]),\n",
       " 'split1_test_score': array([0.79576777, 0.79659943, 0.80174578, 0.80171033, 0.75778922,\n",
       "        0.75975917, 0.7497577 , 0.75371501]),\n",
       " 'split2_test_score': array([0.7997083 , 0.80188163, 0.79817291, 0.79965092, 0.71496273,\n",
       "        0.71796527, 0.73978396, 0.74204413]),\n",
       " 'split3_test_score': array([0.75917075, 0.76119948, 0.75981391, 0.7612747 , 0.68420434,\n",
       "        0.68534944, 0.65898416, 0.66423954]),\n",
       " 'mean_test_score': array([0.78279223, 0.78437886, 0.78685675, 0.78770136, 0.7213339 ,\n",
       "        0.72338293, 0.71742604, 0.72119827]),\n",
       " 'std_test_score': array([0.01621579, 0.0160919 , 0.01644502, 0.01610614, 0.02644723,\n",
       "        0.02668887, 0.03526594, 0.03445692]),\n",
       " 'rank_test_score': array([4, 3, 2, 1, 6, 5, 8, 7])}"
      ]
     },
     "execution_count": 169,
     "metadata": {},
     "output_type": "execute_result"
    }
   ],
   "source": [
    "grid_search.cv_results_"
   ]
  }
 ],
 "metadata": {
  "kernelspec": {
   "display_name": "Python 3",
   "language": "python",
   "name": "python3"
  },
  "language_info": {
   "codemirror_mode": {
    "name": "ipython",
    "version": 3
   },
   "file_extension": ".py",
   "mimetype": "text/x-python",
   "name": "python",
   "nbconvert_exporter": "python",
   "pygments_lexer": "ipython3",
   "version": "3.7.6"
  }
 },
 "nbformat": 4,
 "nbformat_minor": 4
}

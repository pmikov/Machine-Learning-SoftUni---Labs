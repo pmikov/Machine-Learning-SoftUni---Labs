{
 "cells": [
  {
   "cell_type": "code",
   "execution_count": 1,
   "metadata": {},
   "outputs": [],
   "source": [
    "%matplotlib inline"
   ]
  },
  {
   "cell_type": "code",
   "execution_count": 57,
   "metadata": {},
   "outputs": [],
   "source": [
    "import numpy as np\n",
    "import pandas as pd\n",
    "import matplotlib.pyplot as plt\n",
    "\n",
    "from sklearn.datasets import load_iris\n",
    "\n",
    "from sklearn.preprocessing import MinMaxScaler\n",
    "\n",
    "from sklearn.decomposition import PCA, KernelPCA\n",
    "from sklearn.discriminant_analysis import LinearDiscriminantAnalysis as LinDA\n",
    "from sklearn.manifold import Isomap"
   ]
  },
  {
   "cell_type": "markdown",
   "metadata": {},
   "source": [
    "# Dimensionality Reduction\n",
    "## Live Demos\n",
    "## PCA"
   ]
  },
  {
   "cell_type": "code",
   "execution_count": 5,
   "metadata": {},
   "outputs": [],
   "source": [
    "iris_data, iris_types = load_iris().data, load_iris().target"
   ]
  },
  {
   "cell_type": "code",
   "execution_count": 19,
   "metadata": {},
   "outputs": [],
   "source": [
    "iris_data = MinMaxScaler((0, 1)).fit_transform(iris_data)"
   ]
  },
  {
   "cell_type": "code",
   "execution_count": 20,
   "metadata": {},
   "outputs": [
    {
     "data": {
      "text/plain": [
       "(array([0., 0., 0., 0.]), array([1., 1., 1., 1.]))"
      ]
     },
     "execution_count": 20,
     "metadata": {},
     "output_type": "execute_result"
    }
   ],
   "source": [
    "iris_data.min(axis = 0), iris_data.max(axis = 0), "
   ]
  },
  {
   "cell_type": "code",
   "execution_count": 21,
   "metadata": {},
   "outputs": [],
   "source": [
    "pca = PCA()"
   ]
  },
  {
   "cell_type": "code",
   "execution_count": 22,
   "metadata": {},
   "outputs": [
    {
     "data": {
      "text/plain": [
       "PCA()"
      ]
     },
     "execution_count": 22,
     "metadata": {},
     "output_type": "execute_result"
    }
   ],
   "source": [
    "pca.fit(iris_data)"
   ]
  },
  {
   "cell_type": "code",
   "execution_count": 24,
   "metadata": {},
   "outputs": [],
   "source": [
    "iris_data_pca = pca.transform(iris_data)"
   ]
  },
  {
   "cell_type": "code",
   "execution_count": 25,
   "metadata": {},
   "outputs": [
    {
     "data": {
      "text/plain": [
       "(150, 4)"
      ]
     },
     "execution_count": 25,
     "metadata": {},
     "output_type": "execute_result"
    }
   ],
   "source": [
    "iris_data_pca.shape"
   ]
  },
  {
   "cell_type": "code",
   "execution_count": 26,
   "metadata": {},
   "outputs": [
    {
     "data": {
      "text/plain": [
       "array([0.84136038, 0.11751808, 0.03473561, 0.00638592])"
      ]
     },
     "execution_count": 26,
     "metadata": {},
     "output_type": "execute_result"
    }
   ],
   "source": [
    "pca.explained_variance_ratio_"
   ]
  },
  {
   "cell_type": "code",
   "execution_count": 27,
   "metadata": {},
   "outputs": [
    {
     "data": {
      "text/plain": [
       "array([0.84136038, 0.95887846, 0.99361408, 1.        ])"
      ]
     },
     "execution_count": 27,
     "metadata": {},
     "output_type": "execute_result"
    }
   ],
   "source": [
    "np.cumsum(pca.explained_variance_ratio_)"
   ]
  },
  {
   "cell_type": "code",
   "execution_count": 28,
   "metadata": {},
   "outputs": [
    {
     "data": {
      "text/plain": [
       "array([[-6.30702931e-01,  1.07577910e-01],\n",
       "       [-6.22904943e-01, -1.04259833e-01],\n",
       "       [-6.69520395e-01, -5.14170597e-02],\n",
       "       [-6.54152759e-01, -1.02884871e-01],\n",
       "       [-6.48788056e-01,  1.33487576e-01],\n",
       "       [-5.35272778e-01,  2.89615724e-01],\n",
       "       [-6.56537790e-01,  1.07244911e-02],\n",
       "       [-6.25780499e-01,  5.71335411e-02],\n",
       "       [-6.75643504e-01, -2.00703283e-01],\n",
       "       [-6.45644619e-01, -6.72080097e-02],\n",
       "       [-5.97408238e-01,  2.17151953e-01],\n",
       "       [-6.38943190e-01,  3.25988375e-02],\n",
       "       [-6.61612593e-01, -1.15605495e-01],\n",
       "       [-7.51967943e-01, -1.71313322e-01],\n",
       "       [-6.00371589e-01,  3.80240692e-01],\n",
       "       [-5.52157227e-01,  5.15255982e-01],\n",
       "       [-5.77053593e-01,  2.93709492e-01],\n",
       "       [-6.03799228e-01,  1.07167941e-01],\n",
       "       [-5.20483461e-01,  2.87627289e-01],\n",
       "       [-6.12197555e-01,  2.19140388e-01],\n",
       "       [-5.57674300e-01,  1.02109180e-01],\n",
       "       [-5.79012675e-01,  1.81065123e-01],\n",
       "       [-7.37784662e-01,  9.05588211e-02],\n",
       "       [-5.06093857e-01,  2.79470846e-02],\n",
       "       [-6.07607579e-01,  2.95285112e-02],\n",
       "       [-5.90210587e-01, -9.45510863e-02],\n",
       "       [-5.61527888e-01,  5.52901611e-02],\n",
       "       [-6.08453780e-01,  1.18310099e-01],\n",
       "       [-6.12617807e-01,  8.16682448e-02],\n",
       "       [-6.38184784e-01, -5.44873860e-02],\n",
       "       [-6.20099660e-01, -8.03970516e-02],\n",
       "       [-5.24757301e-01,  1.03336126e-01],\n",
       "       [-6.73044544e-01,  3.44711846e-01],\n",
       "       [-6.27455379e-01,  4.18257508e-01],\n",
       "       [-6.18740916e-01, -6.76179787e-02],\n",
       "       [-6.44553756e-01, -1.51267253e-02],\n",
       "       [-5.93932344e-01,  1.55623876e-01],\n",
       "       [-6.87495707e-01,  1.22141914e-01],\n",
       "       [-6.92369885e-01, -1.62014545e-01],\n",
       "       [-6.13976551e-01,  6.88891719e-02],\n",
       "       [-6.26048380e-01,  9.64357527e-02],\n",
       "       [-6.09693996e-01, -4.14325957e-01],\n",
       "       [-7.04932239e-01, -8.66839521e-02],\n",
       "       [-5.14001659e-01,  9.21355196e-02],\n",
       "       [-5.43513037e-01,  2.14636651e-01],\n",
       "       [-6.07805187e-01, -1.16425433e-01],\n",
       "       [-6.28656055e-01,  2.18526915e-01],\n",
       "       [-6.70879139e-01, -6.41961326e-02],\n",
       "       [-6.09212186e-01,  2.05396323e-01],\n",
       "       [-6.29944525e-01,  2.04916869e-02],\n",
       "       [ 2.79951766e-01,  1.79245790e-01],\n",
       "       [ 2.15141376e-01,  1.10348921e-01],\n",
       "       [ 3.22223106e-01,  1.27368010e-01],\n",
       "       [ 5.94030131e-02, -3.28502275e-01],\n",
       "       [ 2.62515235e-01, -2.95800761e-02],\n",
       "       [ 1.03831043e-01, -1.21781742e-01],\n",
       "       [ 2.44850362e-01,  1.33801733e-01],\n",
       "       [-1.71529386e-01, -3.52976762e-01],\n",
       "       [ 2.14230599e-01,  2.06607890e-02],\n",
       "       [ 1.53249619e-02, -2.12494509e-01],\n",
       "       [-1.13710323e-01, -4.93929201e-01],\n",
       "       [ 1.37348380e-01, -2.06894998e-02],\n",
       "       [ 4.39928190e-02, -3.06159511e-01],\n",
       "       [ 1.92559767e-01, -3.95507760e-02],\n",
       "       [-8.26091518e-03, -8.66610981e-02],\n",
       "       [ 2.19485489e-01,  1.09383928e-01],\n",
       "       [ 1.33272148e-01, -5.90267184e-02],\n",
       "       [-5.75757060e-04, -1.42367733e-01],\n",
       "       [ 2.54345249e-01, -2.89815304e-01],\n",
       "       [-5.60800300e-03, -2.39572672e-01],\n",
       "       [ 2.68168358e-01,  4.72705335e-02],\n",
       "       [ 9.88208151e-02, -6.96420088e-02],\n",
       "       [ 2.89086481e-01, -1.69157553e-01],\n",
       "       [ 1.45033538e-01, -7.63961345e-02],\n",
       "       [ 1.59287093e-01,  2.19853643e-04],\n",
       "       [ 2.13962718e-01,  5.99630005e-02],\n",
       "       [ 2.91913782e-01,  4.04990109e-03],\n",
       "       [ 3.69148997e-01,  6.43480720e-02],\n",
       "       [ 1.86769115e-01, -4.96694916e-02],\n",
       "       [-6.87697501e-02, -1.85648007e-01],\n",
       "       [-2.15759776e-02, -2.87970157e-01],\n",
       "       [-5.89248844e-02, -2.86536746e-01],\n",
       "       [ 3.23412419e-02, -1.41140786e-01],\n",
       "       [ 2.88906394e-01, -1.31550706e-01],\n",
       "       [ 1.09664252e-01, -8.25379800e-02],\n",
       "       [ 1.82266934e-01,  1.38247021e-01],\n",
       "       [ 2.77724803e-01,  1.05903632e-01],\n",
       "       [ 1.95615410e-01, -2.38550997e-01],\n",
       "       [ 3.76839264e-02, -5.41130122e-02],\n",
       "       [ 4.68406593e-02, -2.53171683e-01],\n",
       "       [ 5.54365941e-02, -2.19190186e-01],\n",
       "       [ 1.75833387e-01, -8.62037590e-04],\n",
       "       [ 4.90676225e-02, -1.79829525e-01],\n",
       "       [-1.53444261e-01, -3.78886428e-01],\n",
       "       [ 6.69726607e-02, -1.68132343e-01],\n",
       "       [ 3.30293747e-02, -4.29708545e-02],\n",
       "       [ 6.62142547e-02, -8.10461198e-02],\n",
       "       [ 1.35679197e-01, -2.32914079e-02],\n",
       "       [-1.58634575e-01, -2.89139847e-01],\n",
       "       [ 6.20502279e-02, -1.17687974e-01],\n",
       "       [ 6.22771338e-01,  1.16807265e-01],\n",
       "       [ 3.46009609e-01, -1.56291874e-01],\n",
       "       [ 6.17986434e-01,  1.00519741e-01],\n",
       "       [ 4.17789309e-01, -2.68903690e-02],\n",
       "       [ 5.63621248e-01,  3.05994289e-02],\n",
       "       [ 7.50122599e-01,  1.52133800e-01],\n",
       "       [ 1.35857804e-01, -3.30462554e-01],\n",
       "       [ 6.08945212e-01,  8.35018443e-02],\n",
       "       [ 5.11020215e-01, -1.32575915e-01],\n",
       "       [ 7.20608541e-01,  3.34580389e-01],\n",
       "       [ 4.24135062e-01,  1.13914054e-01],\n",
       "       [ 4.37723702e-01, -8.78049736e-02],\n",
       "       [ 5.40793776e-01,  6.93466165e-02],\n",
       "       [ 3.63226514e-01, -2.42764625e-01],\n",
       "       [ 4.74246948e-01, -1.20676423e-01],\n",
       "       [ 5.13932631e-01,  9.88816323e-02],\n",
       "       [ 4.24670824e-01,  3.53096310e-02],\n",
       "       [ 7.49026039e-01,  4.63778390e-01],\n",
       "       [ 8.72194272e-01,  9.33798117e-03],\n",
       "       [ 2.82963372e-01, -3.18443776e-01],\n",
       "       [ 6.14733184e-01,  1.53566018e-01],\n",
       "       [ 3.22133832e-01, -1.40500924e-01],\n",
       "       [ 7.58030401e-01,  8.79453649e-02],\n",
       "       [ 3.57235237e-01, -9.50568671e-02],\n",
       "       [ 5.31036706e-01,  1.68539991e-01],\n",
       "       [ 5.46962123e-01,  1.87812429e-01],\n",
       "       [ 3.28704908e-01, -6.81237595e-02],\n",
       "       [ 3.14783811e-01, -5.57223965e-03],\n",
       "       [ 5.16585543e-01, -5.40299414e-02],\n",
       "       [ 4.84826663e-01,  1.15348658e-01],\n",
       "       [ 6.33043632e-01,  5.92290940e-02],\n",
       "       [ 6.87490917e-01,  4.91179916e-01],\n",
       "       [ 5.43489246e-01, -5.44399104e-02],\n",
       "       [ 2.91133358e-01, -5.82085481e-02],\n",
       "       [ 3.05410131e-01, -1.61757644e-01],\n",
       "       [ 7.63507935e-01,  1.68186703e-01],\n",
       "       [ 5.47805644e-01,  1.58976299e-01],\n",
       "       [ 4.06585699e-01,  6.12192966e-02],\n",
       "       [ 2.92534659e-01, -1.63044284e-02],\n",
       "       [ 5.35871344e-01,  1.19790986e-01],\n",
       "       [ 6.13864965e-01,  9.30029331e-02],\n",
       "       [ 5.58343139e-01,  1.22041374e-01],\n",
       "       [ 3.46009609e-01, -1.56291874e-01],\n",
       "       [ 6.23819644e-01,  1.39763503e-01],\n",
       "       [ 6.38651518e-01,  1.66900115e-01],\n",
       "       [ 5.51461624e-01,  5.98413741e-02],\n",
       "       [ 4.07146497e-01, -1.71820871e-01],\n",
       "       [ 4.47142619e-01,  3.75600193e-02],\n",
       "       [ 4.88207585e-01,  1.49677521e-01],\n",
       "       [ 3.12066323e-01, -3.11303854e-02]])"
      ]
     },
     "execution_count": 28,
     "metadata": {},
     "output_type": "execute_result"
    }
   ],
   "source": [
    "iris_data_pca[:, :2]"
   ]
  },
  {
   "cell_type": "code",
   "execution_count": 30,
   "metadata": {},
   "outputs": [
    {
     "data": {
      "image/png": "[encoded data removed]",
      "text/plain": [
       "<Figure size 432x288 with 1 Axes>"
      ]
     },
     "metadata": {
      "needs_background": "light"
     },
     "output_type": "display_data"
    }
   ],
   "source": [
    "plt.scatter(iris_data_pca[:, 0], iris_data_pca[:, 1], c = iris_types)\n",
    "\n",
    "plt.xlabel(\"First principal component\")\n",
    "plt.ylabel(\"Second principal component\")\n",
    "plt.show()"
   ]
  },
  {
   "cell_type": "code",
   "execution_count": 68,
   "metadata": {},
   "outputs": [
    {
     "data": {
      "text/plain": [
       "array([ 0.42494212,  0.42320271, -0.71357236, -0.36213001])"
      ]
     },
     "execution_count": 68,
     "metadata": {},
     "output_type": "execute_result"
    }
   ],
   "source": [
    "pca.components_[:, 0]"
   ]
  },
  {
   "cell_type": "code",
   "execution_count": 34,
   "metadata": {},
   "outputs": [],
   "source": [
    "covariance_matrix = pd.DataFrame(iris_data).cov()"
   ]
  },
  {
   "cell_type": "code",
   "execution_count": 36,
   "metadata": {},
   "outputs": [],
   "source": [
    "eigenvalues, eigenvectors = np.linalg.eig(covariance_matrix)"
   ]
  },
  {
   "cell_type": "code",
   "execution_count": 40,
   "metadata": {},
   "outputs": [
    {
     "data": {
      "text/plain": [
       "array([[0.23245325, 0.        , 0.        , 0.        ],\n",
       "       [0.        , 0.0324682 , 0.        , 0.        ],\n",
       "       [0.        , 0.        , 0.00959685, 0.        ],\n",
       "       [0.        , 0.        , 0.        , 0.00176432]])"
      ]
     },
     "execution_count": 40,
     "metadata": {},
     "output_type": "execute_result"
    }
   ],
   "source": [
    "np.diag(eigenvalues)"
   ]
  },
  {
   "cell_type": "code",
   "execution_count": 39,
   "metadata": {},
   "outputs": [
    {
     "data": {
      "text/plain": [
       "array([[ 0.42494212, -0.15074824,  0.61626702,  0.64568888],\n",
       "       [-0.42320271, -0.90396711,  0.06038308,  0.00983925],\n",
       "       [-0.71357236,  0.33631602, -0.0659003 ,  0.61103451],\n",
       "       [ 0.36213001, -0.21681781, -0.78244872,  0.45784921]])"
      ]
     },
     "execution_count": 39,
     "metadata": {},
     "output_type": "execute_result"
    }
   ],
   "source": [
    "eigenvectors.T"
   ]
  },
  {
   "cell_type": "code",
   "execution_count": 41,
   "metadata": {},
   "outputs": [
    {
     "data": {
      "text/plain": [
       "array([[ 0.42494212, -0.42320271, -0.71357236,  0.36213001],\n",
       "       [-0.15074824, -0.90396711,  0.33631602, -0.21681781],\n",
       "       [ 0.61626702,  0.06038308, -0.0659003 , -0.78244872],\n",
       "       [ 0.64568888,  0.00983925,  0.61103451,  0.45784921]])"
      ]
     },
     "execution_count": 41,
     "metadata": {},
     "output_type": "execute_result"
    }
   ],
   "source": [
    "np.linalg.inv(eigenvectors.T)"
   ]
  },
  {
   "cell_type": "code",
   "execution_count": 46,
   "metadata": {},
   "outputs": [
    {
     "data": {
      "text/plain": [
       "array([0.43036765, 0.44055556, 0.46988605, 0.46031599])"
      ]
     },
     "execution_count": 46,
     "metadata": {},
     "output_type": "execute_result"
    }
   ],
   "source": [
    "np.abs(pca.inverse_transform(iris_data_pca) - iris_data_pca).mean(axis = 0)"
   ]
  },
  {
   "cell_type": "markdown",
   "metadata": {},
   "source": [
    "## Manifold Learning"
   ]
  },
  {
   "cell_type": "code",
   "execution_count": 52,
   "metadata": {},
   "outputs": [],
   "source": [
    "linda = LinDA(n_components = 2)"
   ]
  },
  {
   "cell_type": "code",
   "execution_count": 53,
   "metadata": {},
   "outputs": [
    {
     "data": {
      "text/plain": [
       "LinearDiscriminantAnalysis(n_components=2)"
      ]
     },
     "execution_count": 53,
     "metadata": {},
     "output_type": "execute_result"
    }
   ],
   "source": [
    "linda.fit(iris_data, iris_types)"
   ]
  },
  {
   "cell_type": "code",
   "execution_count": 54,
   "metadata": {},
   "outputs": [],
   "source": [
    "iris_data_linda = linda.transform(iris_data)"
   ]
  },
  {
   "cell_type": "code",
   "execution_count": 56,
   "metadata": {},
   "outputs": [
    {
     "data": {
      "image/png": "[encoded data removed]",
      "text/plain": [
       "<Figure size 432x288 with 1 Axes>"
      ]
     },
     "metadata": {
      "needs_background": "light"
     },
     "output_type": "display_data"
    }
   ],
   "source": [
    "plt.scatter(iris_data_linda[:, 0], iris_data_linda[:, 1], c = iris_types)\n",
    "plt.show()"
   ]
  },
  {
   "cell_type": "code",
   "execution_count": 62,
   "metadata": {},
   "outputs": [],
   "source": [
    "isomap = Isomap(n_components = 2, n_neighbors = 10)"
   ]
  },
  {
   "cell_type": "code",
   "execution_count": 63,
   "metadata": {},
   "outputs": [],
   "source": [
    "iris_isomap = isomap.fit_transform(iris_data)"
   ]
  },
  {
   "cell_type": "code",
   "execution_count": 64,
   "metadata": {},
   "outputs": [
    {
     "data": {
      "text/plain": [
       "(150, 2)"
      ]
     },
     "execution_count": 64,
     "metadata": {},
     "output_type": "execute_result"
    }
   ],
   "source": [
    "iris_isomap.shape"
   ]
  },
  {
   "cell_type": "code",
   "execution_count": 65,
   "metadata": {},
   "outputs": [
    {
     "data": {
      "image/png": "[encoded data removed]",
      "text/plain": [
       "<Figure size 432x288 with 1 Axes>"
      ]
     },
     "metadata": {
      "needs_background": "light"
     },
     "output_type": "display_data"
    }
   ],
   "source": [
    "plt.scatter(iris_isomap[:, 0], iris_isomap[:, 1], c = iris_types)\n",
    "plt.show()"
   ]
  },
  {
   "cell_type": "code",
   "execution_count": null,
   "metadata": {},
   "outputs": [],
   "source": []
  },
  {
   "cell_type": "code",
   "execution_count": null,
   "metadata": {},
   "outputs": [],
   "source": []
  }
 ],
 "metadata": {
  "kernelspec": {
   "display_name": "Python 3",
   "language": "python",
   "name": "python3"
  },
  "language_info": {
   "codemirror_mode": {
    "name": "ipython",
    "version": 3
   },
   "file_extension": ".py",
   "mimetype": "text/x-python",
   "name": "python",
   "nbconvert_exporter": "python",
   "pygments_lexer": "ipython3",
   "version": "3.7.6"
  }
 },
 "nbformat": 4,
 "nbformat_minor": 4
}
